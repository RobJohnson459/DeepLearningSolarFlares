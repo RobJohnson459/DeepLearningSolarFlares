{
 "cells": [
  {
   "cell_type": "code",
   "execution_count": 1,
   "metadata": {},
   "outputs": [
    {
     "name": "stderr",
     "output_type": "stream",
     "text": [
      "/home/robjohnson/.local/lib/python3.8/site-packages/torch/cuda/__init__.py:52: UserWarning: CUDA initialization: Found no NVIDIA driver on your system. Please check that you have an NVIDIA GPU and installed a driver from http://www.nvidia.com/Download/index.aspx (Triggered internally at  /pytorch/c10/cuda/CUDAFunctions.cpp:100.)\n",
      "  return torch._C._cuda_getDeviceCount() > 0\n"
     ]
    },
    {
     "data": {
      "text/plain": [
       "<torch._C.Generator at 0x7fa8852a8d30>"
      ]
     },
     "execution_count": 1,
     "metadata": {},
     "output_type": "execute_result"
    }
   ],
   "source": [
    "#!pip install torch\n",
    "#!pip install torchvision\n",
    "import pandas as pd\n",
    "import numpy as np\n",
    "import torch\n",
    "import torch.nn as nn\n",
    "import torchvision.transforms as transforms\n",
    "import json\n",
    "from normalizer import getDataFromJSON, subSample\n",
    "# Device configuration - If you have CUDA configured, you must use it. Try training with CPU and observe what happens\n",
    "device = torch.device('cuda' if torch.cuda.is_available() else 'cpu')\n",
    "\n",
    "#Setting a seed for torch\n",
    "'''step - Your seed will be the last 6 digits of your A# excluding any leading zeros'''\n",
    "torch.manual_seed(195322) "
   ]
  },
  {
   "cell_type": "code",
   "execution_count": 2,
   "metadata": {},
   "outputs": [],
   "source": [
    "# All of our fields have names, but we need them in numbers, so define a dictionary to convert.\n",
    "global magDict\n",
    "magDict = {\n",
    "    'TOTUSJH': 0,\n",
    "    'TOTBSQ': 1,\n",
    "    'TOTPOT': 2,\n",
    "    'TOTUSJZ': 3,\n",
    "    'ABSNJZH': 4,\n",
    "    'SAVNCPP': 5,\n",
    "    'USFLUX': 6,\n",
    "    'TOTFZ': 7,\n",
    "    'MEANPOT': 8,\n",
    "    'EPSZ': 9,\n",
    "    'SHRGT45': 10,\n",
    "    'MEANSHR': 11,\n",
    "    'MEANGAM': 12,\n",
    "    'MEANGBT': 13,\n",
    "    'MEANGBZ': 14,\n",
    "    'MEANGBH': 15,\n",
    "    'MEANJZH': 16,\n",
    "    'TOTFY': 17,\n",
    "    'MEANJZD': 18,\n",
    "    'MEANALP': 19,\n",
    "    'TOTFX': 20,\n",
    "    'EPSY': 21,\n",
    "    'EPSX': 22,\n",
    "    'R_VALUE': 23,\n",
    "    'RBZ_VALUE': 24,\n",
    "    'RBT_VALUE': 25,\n",
    "    'RBP_VALUE': 26,\n",
    "    'FDIM': 27,\n",
    "    'BZ_FDIM': 28,\n",
    "    'BT_FDIM': 29,\n",
    "    'BP_FDIM': 30,\n",
    "    'PIL_LEN': 31,\n",
    "    'XR_MAX': 32\n",
    "}"
   ]
  },
  {
   "cell_type": "code",
   "execution_count": 4,
   "metadata": {},
   "outputs": [
    {
     "name": "stdout",
     "output_type": "stream",
     "text": [
      "Now loading event 1/785\n",
      "Now loading event 101/785\n",
      "Now loading event 201/785\n",
      "Now loading event 301/785\n",
      "Now loading event 401/785\n",
      "Now loading event 501/785\n",
      "Now loading event 601/785\n",
      "Now loading event 701/785\n",
      "785 lines loaded.\n",
      "CPU times: user 20.9 s, sys: 2.26 s, total: 23.1 s\n",
      "Wall time: 23.2 s\n"
     ]
    }
   ],
   "source": [
    "# This file has 77270 data points. \n",
    "%time train1, labels1 = subSample(path=\"data/train_partition1_data.json\", earlyStop=5000, device=device)"
   ]
  },
  {
   "cell_type": "code",
   "execution_count": 5,
   "metadata": {},
   "outputs": [
    {
     "name": "stdout",
     "output_type": "stream",
     "text": [
      "Now loading event 1/300\n",
      "Now loading event 101/300\n",
      "Now loading event 201/300\n",
      "300 lines loaded.\n",
      "CPU times: user 16.5 s, sys: 1.98 s, total: 18.5 s\n",
      "Wall time: 18.5 s\n"
     ]
    }
   ],
   "source": [
    "# This file has 93767 data points. \n",
    "%time train2, labels2 = subSample(path=\"data/train_partition2_data.json\", earlyStop=5000, device=device)"
   ]
  },
  {
   "cell_type": "code",
   "execution_count": 6,
   "metadata": {},
   "outputs": [
    {
     "name": "stdout",
     "output_type": "stream",
     "text": [
      "Now loading event 1/585\n",
      "Now loading event 101/585\n",
      "Now loading event 201/585\n",
      "Now loading event 301/585\n",
      "Now loading event 401/585\n",
      "Now loading event 501/585\n",
      "585 lines loaded.\n",
      "CPU times: user 13 s, sys: 907 ms, total: 14 s\n",
      "Wall time: 14 s\n"
     ]
    }
   ],
   "source": [
    "# This file has 42986 data points. \n",
    "%time train3, labels3 = subSample(path=\"data/train_partition3_data.json\", earlyStop=5000, device = device)"
   ]
  },
  {
   "cell_type": "code",
   "execution_count": null,
   "metadata": {},
   "outputs": [],
   "source": []
  },
  {
   "cell_type": "code",
   "execution_count": 7,
   "metadata": {},
   "outputs": [],
   "source": [
    "import matplotlib.pyplot as plt\n",
    "from sklearn.cluster import KMeans\n",
    "from sklearn.metrics import silhouette_score\n",
    "from sklearn.preprocessing import StandardScaler"
   ]
  },
  {
   "cell_type": "code",
   "execution_count": 9,
   "metadata": {},
   "outputs": [
    {
     "name": "stdout",
     "output_type": "stream",
     "text": [
      "torch.Size([785, 33, 60])\n"
     ]
    },
    {
     "ename": "RuntimeError",
     "evalue": "shape '[100]' is invalid for input of size 1554300",
     "output_type": "error",
     "traceback": [
      "\u001b[0;31m---------------------------------------------------------------------------\u001b[0m",
      "\u001b[0;31mRuntimeError\u001b[0m                              Traceback (most recent call last)",
      "\u001b[0;32m<ipython-input-9-b28293bef592>\u001b[0m in \u001b[0;36m<module>\u001b[0;34m\u001b[0m\n\u001b[1;32m      1\u001b[0m \u001b[0mprint\u001b[0m\u001b[0;34m(\u001b[0m\u001b[0mtrain1\u001b[0m\u001b[0;34m.\u001b[0m\u001b[0mshape\u001b[0m\u001b[0;34m)\u001b[0m\u001b[0;34m\u001b[0m\u001b[0;34m\u001b[0m\u001b[0m\n\u001b[0;32m----> 2\u001b[0;31m \u001b[0mtrain1\u001b[0m\u001b[0;34m.\u001b[0m\u001b[0mview\u001b[0m\u001b[0;34m(\u001b[0m\u001b[0;36m100\u001b[0m\u001b[0;34m)\u001b[0m\u001b[0;34m\u001b[0m\u001b[0;34m\u001b[0m\u001b[0m\n\u001b[0m",
      "\u001b[0;31mRuntimeError\u001b[0m: shape '[100]' is invalid for input of size 1554300"
     ]
    }
   ],
   "source": [
    "train1.shape"
   ]
  },
  {
   "cell_type": "code",
   "execution_count": 10,
   "metadata": {},
   "outputs": [
    {
     "data": {
      "text/plain": [
       "torch.Size([300, 33, 60])"
      ]
     },
     "execution_count": 10,
     "metadata": {},
     "output_type": "execute_result"
    }
   ],
   "source": [
    "train2.shape"
   ]
  },
  {
   "cell_type": "code",
   "execution_count": 11,
   "metadata": {},
   "outputs": [
    {
     "data": {
      "text/plain": [
       "torch.Size([585, 33, 60])"
      ]
     },
     "execution_count": 11,
     "metadata": {},
     "output_type": "execute_result"
    }
   ],
   "source": [
    "train3.shape"
   ]
  },
  {
   "cell_type": "code",
   "execution_count": 12,
   "metadata": {},
   "outputs": [
    {
     "data": {
      "text/plain": [
       "tensor([[4.2348e+02, 4.2958e+02, 4.2243e+02,  ..., 3.7410e+02, 3.7253e+02,\n",
       "         3.6715e+02],\n",
       "        [8.0577e+09, 8.0768e+09, 8.0405e+09,  ..., 7.1063e+09, 7.0274e+09,\n",
       "         7.0019e+09],\n",
       "        [1.6010e+23, 1.6057e+23, 1.5958e+23,  ..., 1.4230e+23, 1.4215e+23,\n",
       "         1.4222e+23],\n",
       "        ...,\n",
       "        [0.0000e+00, 0.0000e+00, 0.0000e+00,  ..., 1.4633e-04, 0.0000e+00,\n",
       "         0.0000e+00],\n",
       "        [4.0000e+00, 0.0000e+00, 1.0000e+00,  ..., 7.0000e+00, 2.0000e+00,\n",
       "         5.0000e+00],\n",
       "        [1.6718e-07, 1.6202e-07, 1.8156e-07,  ..., 1.6528e-07, 1.7179e-07,\n",
       "         2.2089e-07]])"
      ]
     },
     "execution_count": 12,
     "metadata": {},
     "output_type": "execute_result"
    }
   ],
   "source": [
    "train1[0]"
   ]
  },
  {
   "cell_type": "code",
   "execution_count": 13,
   "metadata": {},
   "outputs": [
    {
     "data": {
      "image/png": "[encoded data removed]",
      "text/plain": [
       "<Figure size 432x288 with 1 Axes>"
      ]
     },
     "metadata": {
      "needs_background": "light"
     },
     "output_type": "display_data"
    }
   ],
   "source": [
    "plt.imshow(train2[1])\n",
    "plt.show()"
   ]
  },
  {
   "cell_type": "code",
   "execution_count": 24,
   "metadata": {},
   "outputs": [
    {
     "data": {
      "image/png": "[encoded data removed]",
      "text/plain": [
       "<Figure size 432x288 with 1 Axes>"
      ]
     },
     "metadata": {
      "needs_background": "light"
     },
     "output_type": "display_data"
    }
   ],
   "source": [
    "plt.imshow(train1[1])\n",
    "plt.show()"
   ]
  },
  {
   "cell_type": "code",
   "execution_count": 15,
   "metadata": {},
   "outputs": [
    {
     "data": {
      "text/plain": [
       "torch.Size([785, 33, 60])"
      ]
     },
     "execution_count": 15,
     "metadata": {},
     "output_type": "execute_result"
    }
   ],
   "source": [
    "train1.view(-1,1,33,60)[:,0,:,:].shape"
   ]
  },
  {
   "cell_type": "code",
   "execution_count": 29,
   "metadata": {},
   "outputs": [
    {
     "name": "stdout",
     "output_type": "stream",
     "text": [
      "torch.Size([1670, 33, 60])\n",
      "torch.Size([1670, 1, 33, 60])\n"
     ]
    },
    {
     "data": {
      "text/plain": [
       "torch.Size([1670, 1, 28, 28])"
      ]
     },
     "execution_count": 29,
     "metadata": {},
     "output_type": "execute_result"
    }
   ],
   "source": [
    "# Append in to a single tensor\n",
    "X = torch.cat((train1, train2,train3),0)\n",
    "print(X.shape)\n",
    "X = X.reshape(-1, 1, 33, 60)\n",
    "print(X.shape)\n",
    "X = X[:,:,:28,:28] # This does not look like a good idea...\n",
    "batch_size = X.shape[0]\n",
    "X = X.to(torch.float)\n",
    "# this? This gives me pain\n",
    "for i in range(batch_size): \n",
    "  # print(X[i])\n",
    "  # isn't this going to only normalize each frame? instead, shouldn't we normalize based on data type?\n",
    "    min_x = torch.min(X[i])\n",
    "    X[i] -= min_x\n",
    "    X[i] /= torch.max(X[i]).item()\n",
    "\n",
    "# here is how I'm going to change it:\n",
    "for i in range(X.shape[2]): # the number of types of measurements\n",
    "    min_x = torch.min(X[:,:,i,:])\n",
    "    X[:,:,i,:] -= min_x\n",
    "    X[:,:,i,:] /= torch.max(X[:,:,i,:]).item()\n",
    "    \n",
    "# X=torch.nan_to_num(X) # This threw an error, but subSample gets rid of NAN values.\n",
    "X.shape"
   ]
  },
  {
   "cell_type": "code",
   "execution_count": 31,
   "metadata": {},
   "outputs": [
    {
     "data": {
      "image/png": "[encoded data removed]",
      "text/plain": [
       "<Figure size 432x288 with 1 Axes>"
      ]
     },
     "metadata": {
      "needs_background": "light"
     },
     "output_type": "display_data"
    },
    {
     "data": {
      "text/plain": [
       "(tensor(0.), tensor(0.9223))"
      ]
     },
     "execution_count": 31,
     "metadata": {},
     "output_type": "execute_result"
    }
   ],
   "source": [
    "plt.imshow(X[2,0,:,:])\n",
    "plt.show()\n",
    "torch.min(X[2,0,:,:]), torch.max(X[2,0,:,:])"
   ]
  },
  {
   "cell_type": "code",
   "execution_count": 32,
   "metadata": {},
   "outputs": [],
   "source": [
    "'''\n",
    "Create the architecture \n",
    "\n",
    "'''\n",
    "\n",
    "# consider how this would need to change to get all the data instead of just that one square\n",
    "\n",
    "class Autoencoder(nn.Module):\n",
    "    def __init__(self):\n",
    "        super(Autoencoder, self).__init__()\n",
    "        # you can use sequential of not \n",
    "        self.encoder = nn.Sequential(\n",
    "            nn.Conv2d(1, 16, 3, stride=1, padding=1),\n",
    "            nn.ReLU(),\n",
    "            nn.MaxPool2d(2, 2),\n",
    "            nn.Conv2d(16, 4, 3, stride=1, padding=1),\n",
    "            nn.ReLU(),\n",
    "            nn.MaxPool2d(2, 2),\n",
    "            nn.Flatten(),\n",
    "            nn.Linear(196, 120),\n",
    "            nn.ReLU(),\n",
    "            nn.Linear(120, 96),\n",
    "            nn.ReLU(),\n",
    "            nn.Linear(96, 64),\n",
    "            nn.ReLU(),\n",
    "        )\n",
    "        self.decoder = nn.Sequential(\n",
    "            nn.Unflatten(1, (4, 4, 4)),\n",
    "            nn.ConvTranspose2d(4, 16, 3, stride = 1),\n",
    "            nn.Upsample(scale_factor=2),\n",
    "            nn.ConvTranspose2d(16, 1, 3, stride = 1),\n",
    "            nn.Upsample(scale_factor=2),\n",
    "            nn.Sigmoid()\n",
    "        )\n",
    "\n",
    "    def forward(self, x):\n",
    "        x = self.encoder(x)\n",
    "        x = self.decoder(x)\n",
    "        return x"
   ]
  },
  {
   "cell_type": "code",
   "execution_count": 35,
   "metadata": {},
   "outputs": [
    {
     "name": "stdout",
     "output_type": "stream",
     "text": [
      "epoch 1 : \t training loss 19.396039508423716\n",
      "epoch 2 : \t training loss 18.230817702581298\n",
      "epoch 3 : \t training loss 18.040918921524625\n",
      "epoch 4 : \t training loss 17.93328084810725\n",
      "epoch 5 : \t training loss 17.885345744636822\n",
      "epoch 6 : \t training loss 17.85245236360802\n",
      "epoch 7 : \t training loss 17.839099740082364\n",
      "epoch 8 : \t training loss 17.81973345099755\n",
      "epoch 9 : \t training loss 17.80847294825428\n",
      "epoch 10 : \t training loss 17.801561915649557\n",
      "epoch 11 : \t training loss 17.79428071345923\n",
      "epoch 12 : \t training loss 17.797829274861318\n",
      "epoch 13 : \t training loss 17.782025980499554\n",
      "epoch 14 : \t training loss 17.78052949455549\n",
      "epoch 15 : \t training loss 17.77806836254192\n",
      "epoch 16 : \t training loss 17.768863662233894\n",
      "epoch 17 : \t training loss 17.76780528617355\n",
      "epoch 18 : \t training loss 17.75779628978585\n",
      "epoch 19 : \t training loss 17.75282579547954\n",
      "epoch 20 : \t training loss 17.740766943625683\n",
      "epoch 21 : \t training loss 17.731010967830443\n",
      "epoch 22 : \t training loss 17.714692914261008\n",
      "epoch 23 : \t training loss 17.70311642817731\n",
      "epoch 24 : \t training loss 17.695052749705763\n",
      "epoch 25 : \t training loss 17.688523276796882\n",
      "epoch 26 : \t training loss 17.689619062081825\n",
      "epoch 27 : \t training loss 17.682333694314057\n",
      "epoch 28 : \t training loss 17.681251557368153\n",
      "epoch 29 : \t training loss 17.68559131307422\n",
      "epoch 30 : \t training loss 17.680737749585564\n",
      "epoch 31 : \t training loss 17.677419635484803\n",
      "epoch 32 : \t training loss 17.67523295249579\n",
      "epoch 33 : \t training loss 17.672979885677123\n",
      "epoch 34 : \t training loss 17.670801963446277\n",
      "epoch 35 : \t training loss 17.670930855679064\n",
      "epoch 36 : \t training loss 17.671836466159462\n",
      "epoch 37 : \t training loss 17.672006168455447\n",
      "epoch 38 : \t training loss 17.669746590110492\n",
      "epoch 39 : \t training loss 17.66939687728882\n",
      "epoch 40 : \t training loss 17.67025103659\n",
      "epoch 41 : \t training loss 17.66613529988055\n",
      "epoch 42 : \t training loss 17.66387362300225\n",
      "epoch 43 : \t training loss 17.663026807443153\n",
      "epoch 44 : \t training loss 17.66296854783904\n",
      "epoch 45 : \t training loss 17.662241845760704\n",
      "epoch 46 : \t training loss 17.664604434427225\n",
      "epoch 47 : \t training loss 17.664499748427914\n",
      "epoch 48 : \t training loss 17.66622096862433\n",
      "epoch 49 : \t training loss 17.678155424459923\n",
      "epoch 50 : \t training loss 17.64613635135147\n"
     ]
    }
   ],
   "source": [
    "'''\n",
    "Define your training routine,\n",
    "your optimizer, your loss function.\n",
    "Everything you need to train the model\n",
    "'''\n",
    "model = Autoencoder()\n",
    "criterion = nn.BCELoss()\n",
    "optimizer = torch.optim.Adam(model.parameters(), lr = 0.01)\n",
    "\n",
    "n_epochs = 50\n",
    "\n",
    "model.to(device)\n",
    "\n",
    "train_loader = torch.utils.data.DataLoader(X, batch_size = 32, num_workers = 0)\n",
    "for epoch in range(1, n_epochs+1):\n",
    "    train_loss = 0.0\n",
    "    for data in train_loader:\n",
    "        data.to(device)\n",
    "        optimizer.zero_grad()\n",
    "        outputs = model(data)\n",
    "        loss = criterion(outputs, data)\n",
    "        loss.backward()\n",
    "        optimizer.step()\n",
    "        train_loss += loss.item()*data.size(0)\n",
    "    train_loss /= len(train_loader)\n",
    "    print(f'epoch {epoch} : \\t training loss {train_loss}')\n"
   ]
  },
  {
   "cell_type": "code",
   "execution_count": 36,
   "metadata": {},
   "outputs": [
    {
     "data": {
      "text/plain": [
       "Autoencoder(\n",
       "  (encoder): Sequential(\n",
       "    (0): Conv2d(1, 16, kernel_size=(3, 3), stride=(1, 1), padding=(1, 1))\n",
       "    (1): ReLU()\n",
       "    (2): MaxPool2d(kernel_size=2, stride=2, padding=0, dilation=1, ceil_mode=False)\n",
       "    (3): Conv2d(16, 4, kernel_size=(3, 3), stride=(1, 1), padding=(1, 1))\n",
       "    (4): ReLU()\n",
       "    (5): MaxPool2d(kernel_size=2, stride=2, padding=0, dilation=1, ceil_mode=False)\n",
       "    (6): Flatten(start_dim=1, end_dim=-1)\n",
       "    (7): Linear(in_features=196, out_features=120, bias=True)\n",
       "    (8): ReLU()\n",
       "    (9): Linear(in_features=120, out_features=96, bias=True)\n",
       "    (10): ReLU()\n",
       "    (11): Linear(in_features=96, out_features=64, bias=True)\n",
       "    (12): ReLU()\n",
       "  )\n",
       "  (decoder): Sequential(\n",
       "    (0): Unflatten(dim=1, unflattened_size=(4, 4, 4))\n",
       "    (1): ConvTranspose2d(4, 16, kernel_size=(3, 3), stride=(1, 1))\n",
       "    (2): Upsample(scale_factor=2.0, mode=nearest)\n",
       "    (3): ConvTranspose2d(16, 1, kernel_size=(3, 3), stride=(1, 1))\n",
       "    (4): Upsample(scale_factor=2.0, mode=nearest)\n",
       "    (5): Sigmoid()\n",
       "  )\n",
       ")"
      ]
     },
     "execution_count": 36,
     "metadata": {},
     "output_type": "execute_result"
    }
   ],
   "source": [
    "model.eval()"
   ]
  },
  {
   "cell_type": "code",
   "execution_count": 40,
   "metadata": {},
   "outputs": [
    {
     "name": "stdout",
     "output_type": "stream",
     "text": [
      "(1670, 64)\n",
      "torch.Size([1670, 1, 28, 28])\n"
     ]
    }
   ],
   "source": [
    "X1_vector = model.encoder(X[:,:,:,:])\n",
    "X1_vector = X1_vector.detach().numpy()\n",
    "print(X1_vector.shape)\n",
    "print(X.shape)"
   ]
  },
  {
   "cell_type": "code",
   "execution_count": 46,
   "metadata": {},
   "outputs": [
    {
     "data": {
      "text/plain": [
       "array([0.        , 1.8099934 , 0.        , 0.        , 0.        ,\n",
       "       0.        , 0.        , 1.3157406 , 0.        , 0.        ,\n",
       "       0.        , 0.        , 0.        , 0.        , 0.        ,\n",
       "       0.        , 0.        , 1.0426115 , 0.        , 1.5827414 ,\n",
       "       0.8905652 , 0.        , 0.        , 0.        , 0.        ,\n",
       "       0.        , 0.7297735 , 0.        , 0.        , 0.        ,\n",
       "       0.        , 0.        , 0.10715877, 0.        , 0.        ,\n",
       "       0.        , 0.        , 0.        , 0.        , 0.        ,\n",
       "       0.        , 0.        , 0.        , 0.        , 0.9355048 ,\n",
       "       0.        , 0.        , 1.0150832 , 0.        , 0.        ,\n",
       "       0.        , 1.3872658 , 0.        , 0.        , 0.        ,\n",
       "       0.        , 0.        , 0.        , 0.        , 0.        ,\n",
       "       0.12167436, 0.        , 0.        , 0.        ], dtype=float32)"
      ]
     },
     "execution_count": 46,
     "metadata": {},
     "output_type": "execute_result"
    }
   ],
   "source": [
    "X1_vector[4]"
   ]
  },
  {
   "cell_type": "code",
   "execution_count": 38,
   "metadata": {},
   "outputs": [
    {
     "data": {
      "text/plain": [
       "array([[0.       , 1.9393485, 0.       , ..., 0.       , 0.       ,\n",
       "        0.       ],\n",
       "       [0.       , 1.3846765, 0.       , ..., 0.       , 0.       ,\n",
       "        0.       ],\n",
       "       [0.       , 2.8108666, 0.       , ..., 0.       , 0.       ,\n",
       "        0.       ],\n",
       "       ...,\n",
       "       [0.       , 1.2391716, 0.       , ..., 0.       , 0.       ,\n",
       "        0.       ],\n",
       "       [0.       , 1.2935016, 0.       , ..., 0.       , 0.       ,\n",
       "        0.       ],\n",
       "       [0.       , 1.9919354, 0.       , ..., 0.       , 0.       ,\n",
       "        0.       ]], dtype=float32)"
      ]
     },
     "execution_count": 38,
     "metadata": {},
     "output_type": "execute_result"
    }
   ],
   "source": [
    "X1_vector"
   ]
  },
  {
   "cell_type": "code",
   "execution_count": 47,
   "metadata": {},
   "outputs": [
    {
     "data": {
      "text/plain": [
       "KMeans(n_clusters=5)"
      ]
     },
     "execution_count": 47,
     "metadata": {},
     "output_type": "execute_result"
    }
   ],
   "source": [
    "#k-mean analysis\n",
    "kmeans = KMeans(n_clusters = 5)\n",
    "kmeans.fit(X1_vector)\n"
   ]
  },
  {
   "cell_type": "code",
   "execution_count": 48,
   "metadata": {},
   "outputs": [
    {
     "data": {
      "text/plain": [
       "array([3, 4, 2, ..., 4, 4, 0], dtype=int32)"
      ]
     },
     "execution_count": 48,
     "metadata": {},
     "output_type": "execute_result"
    }
   ],
   "source": [
    "#k-mean labels\n",
    "kmeans.labels_"
   ]
  },
  {
   "cell_type": "code",
   "execution_count": 49,
   "metadata": {},
   "outputs": [
    {
     "ename": "NameError",
     "evalue": "name 'X1_fit' is not defined",
     "output_type": "error",
     "traceback": [
      "\u001b[0;31m---------------------------------------------------------------------------\u001b[0m",
      "\u001b[0;31mNameError\u001b[0m                                 Traceback (most recent call last)",
      "\u001b[0;32m<ipython-input-49-5d6eee977a9f>\u001b[0m in \u001b[0;36m<module>\u001b[0;34m\u001b[0m\n\u001b[0;32m----> 1\u001b[0;31m \u001b[0mX1_fit\u001b[0m\u001b[0;34m\u001b[0m\u001b[0;34m\u001b[0m\u001b[0m\n\u001b[0m",
      "\u001b[0;31mNameError\u001b[0m: name 'X1_fit' is not defined"
     ]
    }
   ],
   "source": [
    "X1_fit"
   ]
  },
  {
   "cell_type": "code",
   "execution_count": 50,
   "metadata": {},
   "outputs": [],
   "source": [
    "from sklearn.manifold import TSNE"
   ]
  },
  {
   "cell_type": "code",
   "execution_count": 51,
   "metadata": {},
   "outputs": [],
   "source": [
    "#turn vectors into two dimensions\n",
    "X_embed = TSNE(n_components=2).fit_transform(X1_vector)"
   ]
  },
  {
   "cell_type": "code",
   "execution_count": 52,
   "metadata": {},
   "outputs": [
    {
     "data": {
      "text/plain": [
       "(1670, 2)"
      ]
     },
     "execution_count": 52,
     "metadata": {},
     "output_type": "execute_result"
    }
   ],
   "source": [
    "X_embed.shape"
   ]
  },
  {
   "cell_type": "code",
   "execution_count": 53,
   "metadata": {},
   "outputs": [],
   "source": [
    "x_em = X_embed[:, 0]\n",
    "y_em = X_embed[:,1]"
   ]
  },
  {
   "cell_type": "code",
   "execution_count": 57,
   "metadata": {},
   "outputs": [],
   "source": [
    "original = np.array([0]*train1.shape[0]+[1]*train2.shape[0]+[2]*train3.shape[0])\n",
    "a = train1.shape[0]\n",
    "b = a + train2.shape[0]"
   ]
  },
  {
   "cell_type": "code",
   "execution_count": 58,
   "metadata": {},
   "outputs": [
    {
     "data": {
      "image/png": "[encoded data removed]",
      "text/plain": [
       "<Figure size 432x288 with 1 Axes>"
      ]
     },
     "metadata": {
      "needs_background": "light"
     },
     "output_type": "display_data"
    }
   ],
   "source": [
    "# labeled by partition\n",
    "plt.scatter(x_em[:a], y_em[:a], c= 'red',label = 'train1')\n",
    "plt.scatter(x_em[a:b], y_em[a:b], c='blue', label = 'train2')\n",
    "plt.scatter(x_em[b:], y_em[b:], c='yellow', label = 'train3')\n",
    "plt.legend()\n",
    "plt.title('Original lables')\n",
    "plt.show()"
   ]
  },
  {
   "cell_type": "code",
   "execution_count": 59,
   "metadata": {},
   "outputs": [
    {
     "data": {
      "text/plain": [
       "array([0.        , 2.9207416 , 0.        , 0.        , 0.        ,\n",
       "       0.        , 0.        , 2.139209  , 0.        , 0.        ,\n",
       "       0.        , 0.        , 0.        , 0.        , 0.        ,\n",
       "       0.        , 0.        , 0.9631543 , 0.        , 2.9883661 ,\n",
       "       0.6590673 , 0.        , 0.        , 0.        , 0.        ,\n",
       "       0.        , 1.6679616 , 0.        , 0.        , 0.        ,\n",
       "       0.        , 0.        , 0.        , 0.        , 0.        ,\n",
       "       0.        , 0.        , 0.        , 0.        , 0.        ,\n",
       "       0.        , 0.        , 0.        , 0.        , 0.        ,\n",
       "       0.        , 0.        , 0.2177769 , 0.        , 0.        ,\n",
       "       0.        , 1.5650522 , 0.        , 0.        , 0.        ,\n",
       "       0.        , 0.        , 0.        , 0.        , 0.        ,\n",
       "       0.50430804, 0.        , 0.        , 0.        ], dtype=float32)"
      ]
     },
     "execution_count": 59,
     "metadata": {},
     "output_type": "execute_result"
    }
   ],
   "source": [
    "X1_vector[3]"
   ]
  },
  {
   "cell_type": "code",
   "execution_count": 60,
   "metadata": {},
   "outputs": [
    {
     "data": {
      "text/plain": [
       "array([3, 4, 2, ..., 4, 4, 0], dtype=int32)"
      ]
     },
     "execution_count": 60,
     "metadata": {},
     "output_type": "execute_result"
    }
   ],
   "source": [
    "kmeans.labels_"
   ]
  },
  {
   "cell_type": "code",
   "execution_count": 61,
   "metadata": {},
   "outputs": [
    {
     "data": {
      "image/png": "[encoded data removed]",
      "text/plain": [
       "<Figure size 432x288 with 1 Axes>"
      ]
     },
     "metadata": {
      "needs_background": "light"
     },
     "output_type": "display_data"
    }
   ],
   "source": [
    "# This is labeled with the KMeans labels\n",
    "plt.scatter(x_em, y_em, c=kmeans.labels_)\n",
    "plt.title('kMeans')\n",
    "plt.show()"
   ]
  },
  {
   "cell_type": "code",
   "execution_count": null,
   "metadata": {},
   "outputs": [],
   "source": []
  }
 ],
 "metadata": {
  "kernelspec": {
   "display_name": "Python 3",
   "language": "python",
   "name": "python3"
  },
  "language_info": {
   "codemirror_mode": {
    "name": "ipython",
    "version": 3
   },
   "file_extension": ".py",
   "mimetype": "text/x-python",
   "name": "python",
   "nbconvert_exporter": "python",
   "pygments_lexer": "ipython3",
   "version": "3.8.5"
  }
 },
 "nbformat": 4,
 "nbformat_minor": 4
}
