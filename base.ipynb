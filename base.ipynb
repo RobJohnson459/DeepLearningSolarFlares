{
 "cells": [
  {
   "cell_type": "code",
   "execution_count": null,
   "metadata": {},
   "outputs": [],
   "source": [
    "import pandas as pd\n",
    "import numpy as np\n",
    "import torch\n",
    "import json"
   ]
  },
  {
   "cell_type": "code",
   "execution_count": null,
   "metadata": {},
   "outputs": [],
   "source": [
    "# All of our fields have names, but we need them in numbers, so define a dictionary to convert.\n",
    "global magDict\n",
    "magDict = {\n",
    "    'TOTUSJH': 0,\n",
    "    'TOTBSQ': 1,\n",
    "    'TOTPOT': 2,\n",
    "    'TOTUSJZ': 3,\n",
    "    'ABSNJZH': 4,\n",
    "    'SAVNCPP': 5,\n",
    "    'USFLUX': 6,\n",
    "    'TOTFZ': 7,\n",
    "    'MEANPOT': 8,\n",
    "    'EPSZ': 9,\n",
    "    'SHRGT45': 10,\n",
    "    'MEANSHR': 11,\n",
    "    'MEANGAM': 12,\n",
    "    'MEANGBT': 13,\n",
    "    'MEANGBZ': 14,\n",
    "    'MEANGBH': 15,\n",
    "    'MEANJZH': 16,\n",
    "    'TOTFY': 17,\n",
    "    'MEANJZD': 18,\n",
    "    'MEANALP': 19,\n",
    "    'TOTFX': 20,\n",
    "    'EPSY': 21,\n",
    "    'EPSX': 22,\n",
    "    'R_VALUE': 23,\n",
    "    'RBZ_VALUE': 24,\n",
    "    'RBT_VALUE': 25,\n",
    "    'RBP_VALUE': 26,\n",
    "    'FDIM': 27,\n",
    "    'BZ_FDIM': 28,\n",
    "    'BT_FDIM': 29,\n",
    "    'BP_FDIM': 30,\n",
    "    'PIL_LEN': 31,\n",
    "    'XR_MAX': 32\n",
    "}"
   ]
  },
  {
   "cell_type": "code",
   "execution_count": null,
   "metadata": {},
   "outputs": [],
   "source": [
    "# Get the data from the JSON file, then return it as a tensor of input data and a list of labels\n",
    "def getDataFromJSON(path=\"data/train_partition1_data.json\", device='cpu', earlyStop=-1):\n",
    "    # I might need to refactor these arguments to allow to get the test data. Problem for another day.\n",
    "    # path is the path to the files, device is where to store it (CUDA), earlyStop is how many lines to \n",
    "    # read if you don't want the entire file read.\n",
    "    \n",
    "    # Get the dictionary to assign names to numbers\n",
    "    global magDict\n",
    "    \n",
    "    # Get the file and open it. Get it's size. \n",
    "    file = open(path)\n",
    "    lines = file.readlines()\n",
    "    if earlyStop < 0: length = len(lines)\n",
    "    else: length = earlyStop\n",
    "    # This file is rather large, so to not crash my computer we are doing this\n",
    "    del lines\n",
    "    file.seek(0)\n",
    "    \n",
    "    # Declare a tensor to hold the data, and a list to hold the labels.\n",
    "    # Dimensions: 0: length of the file. 1: the 33 fields in the data. 2: the 60 observations in each field. \n",
    "    tnsr = torch.Tensor().new_empty((length, 33, 60), device=device)\n",
    "    labels = []\n",
    "        \n",
    "    row = -1\n",
    "    for line in file:\n",
    "        # Load the line as a dictionary. Row is an integer place and v is a smaller dictionary.\n",
    "        d: dict = json.loads(line)\n",
    "        row += 1\n",
    "        for _, v in d.items(): # we use the _ because we don't want the ID.\n",
    "            if earlyStop > 0 and row >= earlyStop:\n",
    "                # If we don't want the entire dataset, stop loading more than we want\n",
    "                return tnsr, labels\n",
    "            if row % 100 == 0:\n",
    "                print(f'Now loading event {row}/{length}')\n",
    "            # append the label to our list\n",
    "            labels.append(v['label'])\n",
    "            \n",
    "            # Break each individual dictionary into dictionaries of observations\n",
    "            # Key is the string in magDict, and timeDict is a dictionary of observations over time\n",
    "            for key, timeDict in v['values'].items():\n",
    "                # Turn our name string into a numeric value\n",
    "                location = magDict[key]\n",
    "                # Get the measurements out of the time series dictionary\n",
    "                for timeStamp, measurement in timeDict.items():\n",
    "                    tnsr[int(row)][location][int(timeStamp)] = measurement\n",
    "    # Close the file. I'm not a heathen                    \n",
    "    file.close()\n",
    "    # This might be a good place to perform some post processing, but that's a question for another day. Famous last words.\n",
    "    return tnsr, labels\n",
    "\n"
   ]
  },
  {
   "cell_type": "code",
   "execution_count": null,
   "metadata": {},
   "outputs": [],
   "source": [
    "# This file has 77270 data points. \n",
    "%time train1, labels1 = getDataFromJSON(path=\"data/train_partition1_data.json\", earlyStop=77270)"
   ]
  },
  {
   "cell_type": "code",
   "execution_count": null,
   "metadata": {},
   "outputs": [],
   "source": [
    "# This file has 93767 data points. \n",
    "%time train2, labels2 = getDataFromJSON(path=\"data/train_partition2_data.json\", earlyStop=93767)"
   ]
  },
  {
   "cell_type": "code",
   "execution_count": null,
   "metadata": {},
   "outputs": [],
   "source": [
    "# This file has 42986 data points. \n",
    "%time train3, labels3 = getDataFromJSON(path=\"data/train_partition3_data.json\", earlyStop=42986)"
   ]
  },
  {
   "cell_type": "code",
   "execution_count": null,
   "metadata": {},
   "outputs": [],
   "source": []
  }
 ],
 "metadata": {
  "kernelspec": {
   "display_name": "Python 3",
   "language": "python",
   "name": "python3"
  },
  "language_info": {
   "codemirror_mode": {
    "name": "ipython",
    "version": 3
   },
   "file_extension": ".py",
   "mimetype": "text/x-python",
   "name": "python",
   "nbconvert_exporter": "python",
   "pygments_lexer": "ipython3",
   "version": "3.8.5"
  }
 },
 "nbformat": 4,
 "nbformat_minor": 4
}
