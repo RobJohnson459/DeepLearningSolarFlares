{
 "cells": [
  {
   "cell_type": "markdown",
   "metadata": {},
   "source": [
    "### Download instructions ###\n",
    "\n",
    "1. Specify a directory with an absolute path in the variable DATA\n",
    "2. press Shift+Enter twice"
   ]
  },
  {
   "cell_type": "code",
   "execution_count": null,
   "metadata": {},
   "outputs": [],
   "source": [
    "DATA = 'dataTest' # Enter a path to the directory where you want to save the data files"
   ]
  },
  {
   "cell_type": "code",
   "execution_count": null,
   "metadata": {},
   "outputs": [],
   "source": [
    "!wget --no-check-certificate https://dmlab.cs.gsu.edu/solar/data/data-comp-2020/train_partition1_data.json\n",
    "!wget --no-check-certificate https://dmlab.cs.gsu.edu/solar/data/data-comp-2020/train_partition2_data.json\n",
    "!wget --no-check-certificate https://dmlab.cs.gsu.edu/solar/data/data-comp-2020/train_partition3_data.json\n",
    "!mv train_partition1_data.json $DATA\n",
    "!mv train_partition2_data.json $DATA\n",
    "!mv train_partition3_data.json $DATA\n"
   ]
  }
 ],
 "metadata": {
  "kernelspec": {
   "display_name": "Python 3",
   "language": "python",
   "name": "python3"
  },
  "language_info": {
   "codemirror_mode": {
    "name": "ipython",
    "version": 3
   },
   "file_extension": ".py",
   "mimetype": "text/x-python",
   "name": "python",
   "nbconvert_exporter": "python",
   "pygments_lexer": "ipython3",
   "version": "3.8.5"
  }
 },
 "nbformat": 4,
 "nbformat_minor": 4
}
