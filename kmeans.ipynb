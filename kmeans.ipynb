{
 "cells": [
  {
   "cell_type": "code",
   "execution_count": 4,
   "metadata": {},
   "outputs": [
    {
     "data": {
      "text/plain": [
       "<torch._C.Generator at 0x7fe29084eeb8>"
      ]
     },
     "execution_count": 4,
     "metadata": {},
     "output_type": "execute_result"
    }
   ],
   "source": [
    "#!pip install torch\n",
    "#!pip install torchvision\n",
    "import pandas as pd\n",
    "import numpy as np\n",
    "import torch\n",
    "import torch.nn as nn\n",
    "import torchvision.transforms as transforms\n",
    "import json\n",
    "# Device configuration - If you have CUDA configured, you must use it. Try training with CPU and observe what happens\n",
    "device = torch.device('cuda' if torch.cuda.is_available() else 'cpu')\n",
    "\n",
    "#Setting a seed for torch\n",
    "'''step - Your seed will be the last 6 digits of your A# excluding any leading zeros'''\n",
    "torch.manual_seed(195322) "
   ]
  },
  {
   "cell_type": "code",
   "execution_count": 5,
   "metadata": {},
   "outputs": [],
   "source": [
    "# All of our fields have names, but we need them in numbers, so define a dictionary to convert.\n",
    "global magDict\n",
    "magDict = {\n",
    "    'TOTUSJH': 0,\n",
    "    'TOTBSQ': 1,\n",
    "    'TOTPOT': 2,\n",
    "    'TOTUSJZ': 3,\n",
    "    'ABSNJZH': 4,\n",
    "    'SAVNCPP': 5,\n",
    "    'USFLUX': 6,\n",
    "    'TOTFZ': 7,\n",
    "    'MEANPOT': 8,\n",
    "    'EPSZ': 9,\n",
    "    'SHRGT45': 10,\n",
    "    'MEANSHR': 11,\n",
    "    'MEANGAM': 12,\n",
    "    'MEANGBT': 13,\n",
    "    'MEANGBZ': 14,\n",
    "    'MEANGBH': 15,\n",
    "    'MEANJZH': 16,\n",
    "    'TOTFY': 17,\n",
    "    'MEANJZD': 18,\n",
    "    'MEANALP': 19,\n",
    "    'TOTFX': 20,\n",
    "    'EPSY': 21,\n",
    "    'EPSX': 22,\n",
    "    'R_VALUE': 23,\n",
    "    'RBZ_VALUE': 24,\n",
    "    'RBT_VALUE': 25,\n",
    "    'RBP_VALUE': 26,\n",
    "    'FDIM': 27,\n",
    "    'BZ_FDIM': 28,\n",
    "    'BT_FDIM': 29,\n",
    "    'BP_FDIM': 30,\n",
    "    'PIL_LEN': 31,\n",
    "    'XR_MAX': 32\n",
    "}"
   ]
  },
  {
   "cell_type": "code",
   "execution_count": 6,
   "metadata": {},
   "outputs": [],
   "source": [
    "# Get the data from the JSON file, then return it as a tensor of input data and a list of labels\n",
    "def getDataFromJSON(path=\"train_partition1_data.json\", device='cpu', earlyStop=-1):\n",
    "    # I might need to refactor these arguments to allow to get the test data. Problem for another day.\n",
    "    # path is the path to the files, device is where to store it (CUDA), earlyStop is how many lines to \n",
    "    # read if you don't want the entire file read.\n",
    "    \n",
    "    # Get the dictionary to assign names to numbers\n",
    "    global magDict\n",
    "    \n",
    "    # Get the file and open it. Get it's size. \n",
    "    file = open(path)\n",
    "    lines = file.readlines()\n",
    "    if earlyStop < 0: length = len(lines)\n",
    "    else: length = earlyStop\n",
    "    # This file is rather large, so to not crash my computer we are doing this\n",
    "    del lines\n",
    "    file.seek(0)\n",
    "    \n",
    "    # Declare a tensor to hold the data, and a list to hold the labels.\n",
    "    # Dimensions: 0: length of the file. 1: the 33 fields in the data. 2: the 60 observations in each field. \n",
    "    tnsr = torch.Tensor().new_empty((length, 33, 60), device=device)\n",
    "    labels = []\n",
    "        \n",
    "    row = -1\n",
    "    for line in file:\n",
    "        # Load the line as a dictionary. Row is an integer place and v is a smaller dictionary.\n",
    "        d: dict = json.loads(line)\n",
    "        row += 1\n",
    "        for _, v in d.items(): # we use the _ because we don't want the ID.\n",
    "            if earlyStop > 0 and row >= earlyStop:\n",
    "                # If we don't want the entire dataset, stop loading more than we want\n",
    "                return tnsr, labels\n",
    "            if row % 100 == 0:\n",
    "                print(f'Now loading event {row}/{length}')\n",
    "            # append the label to our list\n",
    "            labels.append(v['label'])\n",
    "            \n",
    "            # Break each individual dictionary into dictionaries of observations\n",
    "            # Key is the string in magDict, and timeDict is a dictionary of observations over time\n",
    "            for key, timeDict in v['values'].items():\n",
    "                # Turn our name string into a numeric value\n",
    "                location = magDict[key]\n",
    "                # Get the measurements out of the time series dictionary\n",
    "                for timeStamp, measurement in timeDict.items():\n",
    "                    tnsr[int(row)][location][int(timeStamp)] = measurement\n",
    "    # Close the file. I'm not a heathen                    \n",
    "    file.close()\n",
    "    # This might be a good place to perform some post processing, but that's a question for another day. Famous last words.\n",
    "    return tnsr, labels\n",
    "\n"
   ]
  },
  {
   "cell_type": "code",
   "execution_count": 7,
   "metadata": {},
   "outputs": [
    {
     "name": "stdout",
     "output_type": "stream",
     "text": [
      "Now loading event 0/5000\n",
      "Now loading event 100/5000\n",
      "Now loading event 200/5000\n",
      "Now loading event 300/5000\n",
      "Now loading event 400/5000\n",
      "Now loading event 500/5000\n",
      "Now loading event 600/5000\n",
      "Now loading event 700/5000\n",
      "Now loading event 800/5000\n",
      "Now loading event 900/5000\n",
      "Now loading event 1000/5000\n",
      "Now loading event 1100/5000\n",
      "Now loading event 1200/5000\n",
      "Now loading event 1300/5000\n",
      "Now loading event 1400/5000\n",
      "Now loading event 1500/5000\n",
      "Now loading event 1600/5000\n",
      "Now loading event 1700/5000\n",
      "Now loading event 1800/5000\n",
      "Now loading event 1900/5000\n",
      "Now loading event 2000/5000\n",
      "Now loading event 2100/5000\n",
      "Now loading event 2200/5000\n",
      "Now loading event 2300/5000\n",
      "Now loading event 2400/5000\n",
      "Now loading event 2500/5000\n",
      "Now loading event 2600/5000\n",
      "Now loading event 2700/5000\n",
      "Now loading event 2800/5000\n",
      "Now loading event 2900/5000\n",
      "Now loading event 3000/5000\n",
      "Now loading event 3100/5000\n",
      "Now loading event 3200/5000\n",
      "Now loading event 3300/5000\n",
      "Now loading event 3400/5000\n",
      "Now loading event 3500/5000\n",
      "Now loading event 3600/5000\n",
      "Now loading event 3700/5000\n",
      "Now loading event 3800/5000\n",
      "Now loading event 3900/5000\n",
      "Now loading event 4000/5000\n",
      "Now loading event 4100/5000\n",
      "Now loading event 4200/5000\n",
      "Now loading event 4300/5000\n",
      "Now loading event 4400/5000\n",
      "Now loading event 4500/5000\n",
      "Now loading event 4600/5000\n",
      "Now loading event 4700/5000\n",
      "Now loading event 4800/5000\n",
      "Now loading event 4900/5000\n",
      "CPU times: user 1min 35s, sys: 3.55 s, total: 1min 39s\n",
      "Wall time: 1min 39s\n"
     ]
    }
   ],
   "source": [
    "# This file has 77270 data points. \n",
    "%time train1, labels1 = getDataFromJSON(path=\"train_partition1_data.json\", earlyStop=5000)"
   ]
  },
  {
   "cell_type": "code",
   "execution_count": 8,
   "metadata": {},
   "outputs": [
    {
     "name": "stdout",
     "output_type": "stream",
     "text": [
      "Now loading event 0/5000\n",
      "Now loading event 100/5000\n",
      "Now loading event 200/5000\n",
      "Now loading event 300/5000\n",
      "Now loading event 400/5000\n",
      "Now loading event 500/5000\n",
      "Now loading event 600/5000\n",
      "Now loading event 700/5000\n",
      "Now loading event 800/5000\n",
      "Now loading event 900/5000\n",
      "Now loading event 1000/5000\n",
      "Now loading event 1100/5000\n",
      "Now loading event 1200/5000\n",
      "Now loading event 1300/5000\n",
      "Now loading event 1400/5000\n",
      "Now loading event 1500/5000\n",
      "Now loading event 1600/5000\n",
      "Now loading event 1700/5000\n",
      "Now loading event 1800/5000\n",
      "Now loading event 1900/5000\n",
      "Now loading event 2000/5000\n",
      "Now loading event 2100/5000\n",
      "Now loading event 2200/5000\n",
      "Now loading event 2300/5000\n",
      "Now loading event 2400/5000\n",
      "Now loading event 2500/5000\n",
      "Now loading event 2600/5000\n",
      "Now loading event 2700/5000\n",
      "Now loading event 2800/5000\n",
      "Now loading event 2900/5000\n",
      "Now loading event 3000/5000\n",
      "Now loading event 3100/5000\n",
      "Now loading event 3200/5000\n",
      "Now loading event 3300/5000\n",
      "Now loading event 3400/5000\n",
      "Now loading event 3500/5000\n",
      "Now loading event 3600/5000\n",
      "Now loading event 3700/5000\n",
      "Now loading event 3800/5000\n",
      "Now loading event 3900/5000\n",
      "Now loading event 4000/5000\n",
      "Now loading event 4100/5000\n",
      "Now loading event 4200/5000\n",
      "Now loading event 4300/5000\n",
      "Now loading event 4400/5000\n",
      "Now loading event 4500/5000\n",
      "Now loading event 4600/5000\n",
      "Now loading event 4700/5000\n",
      "Now loading event 4800/5000\n",
      "Now loading event 4900/5000\n",
      "CPU times: user 1min 36s, sys: 4.45 s, total: 1min 41s\n",
      "Wall time: 1min 41s\n"
     ]
    }
   ],
   "source": [
    "# This file has 93767 data points. \n",
    "%time train2, labels2 = getDataFromJSON(path=\"train_partition2_data.json\", earlyStop=5000)"
   ]
  },
  {
   "cell_type": "code",
   "execution_count": 9,
   "metadata": {},
   "outputs": [
    {
     "name": "stdout",
     "output_type": "stream",
     "text": [
      "Now loading event 0/5000\n",
      "Now loading event 100/5000\n",
      "Now loading event 200/5000\n",
      "Now loading event 300/5000\n",
      "Now loading event 400/5000\n",
      "Now loading event 500/5000\n",
      "Now loading event 600/5000\n",
      "Now loading event 700/5000\n",
      "Now loading event 800/5000\n",
      "Now loading event 900/5000\n",
      "Now loading event 1000/5000\n",
      "Now loading event 1100/5000\n",
      "Now loading event 1200/5000\n",
      "Now loading event 1300/5000\n",
      "Now loading event 1400/5000\n",
      "Now loading event 1500/5000\n",
      "Now loading event 1600/5000\n",
      "Now loading event 1700/5000\n",
      "Now loading event 1800/5000\n",
      "Now loading event 1900/5000\n",
      "Now loading event 2000/5000\n",
      "Now loading event 2100/5000\n",
      "Now loading event 2200/5000\n",
      "Now loading event 2300/5000\n",
      "Now loading event 2400/5000\n",
      "Now loading event 2500/5000\n",
      "Now loading event 2600/5000\n",
      "Now loading event 2700/5000\n",
      "Now loading event 2800/5000\n",
      "Now loading event 2900/5000\n",
      "Now loading event 3000/5000\n",
      "Now loading event 3100/5000\n",
      "Now loading event 3200/5000\n",
      "Now loading event 3300/5000\n",
      "Now loading event 3400/5000\n",
      "Now loading event 3500/5000\n",
      "Now loading event 3600/5000\n",
      "Now loading event 3700/5000\n",
      "Now loading event 3800/5000\n",
      "Now loading event 3900/5000\n",
      "Now loading event 4000/5000\n",
      "Now loading event 4100/5000\n",
      "Now loading event 4200/5000\n",
      "Now loading event 4300/5000\n",
      "Now loading event 4400/5000\n",
      "Now loading event 4500/5000\n",
      "Now loading event 4600/5000\n",
      "Now loading event 4700/5000\n",
      "Now loading event 4800/5000\n",
      "Now loading event 4900/5000\n",
      "CPU times: user 1min 34s, sys: 1.74 s, total: 1min 36s\n",
      "Wall time: 1min 36s\n"
     ]
    }
   ],
   "source": [
    "# This file has 42986 data points. \n",
    "%time train3, labels3 = getDataFromJSON(path=\"train_partition3_data.json\", earlyStop=5000)"
   ]
  },
  {
   "cell_type": "code",
   "execution_count": null,
   "metadata": {},
   "outputs": [],
   "source": []
  },
  {
   "cell_type": "code",
   "execution_count": 10,
   "metadata": {},
   "outputs": [],
   "source": [
    "import matplotlib.pyplot as plt\n",
    "from sklearn.cluster import KMeans\n",
    "from sklearn.metrics import silhouette_score\n",
    "from sklearn.preprocessing import StandardScaler"
   ]
  },
  {
   "cell_type": "code",
   "execution_count": 11,
   "metadata": {},
   "outputs": [
    {
     "ename": "AttributeError",
     "evalue": "'torch.Size' object has no attribute 'view'",
     "output_type": "error",
     "traceback": [
      "\u001b[0;31m---------------------------------------------------------------------------\u001b[0m",
      "\u001b[0;31mAttributeError\u001b[0m                            Traceback (most recent call last)",
      "\u001b[0;32m<ipython-input-11-dfabd5422eee>\u001b[0m in \u001b[0;36m<module>\u001b[0;34m()\u001b[0m\n\u001b[0;32m----> 1\u001b[0;31m \u001b[0mtrain1\u001b[0m\u001b[0;34m.\u001b[0m\u001b[0mshape\u001b[0m\u001b[0;34m.\u001b[0m\u001b[0mview\u001b[0m\u001b[0;34m(\u001b[0m\u001b[0;36m100\u001b[0m\u001b[0;34m)\u001b[0m\u001b[0;34m\u001b[0m\u001b[0m\n\u001b[0m",
      "\u001b[0;31mAttributeError\u001b[0m: 'torch.Size' object has no attribute 'view'"
     ]
    }
   ],
   "source": [
    "train1.shape.view(100)"
   ]
  },
  {
   "cell_type": "code",
   "execution_count": 12,
   "metadata": {},
   "outputs": [
    {
     "data": {
      "text/plain": [
       "torch.Size([5000, 33, 60])"
      ]
     },
     "execution_count": 12,
     "metadata": {},
     "output_type": "execute_result"
    }
   ],
   "source": [
    "train2.shape"
   ]
  },
  {
   "cell_type": "code",
   "execution_count": 13,
   "metadata": {},
   "outputs": [
    {
     "data": {
      "text/plain": [
       "torch.Size([5000, 33, 60])"
      ]
     },
     "execution_count": 13,
     "metadata": {},
     "output_type": "execute_result"
    }
   ],
   "source": [
    "train3.shape"
   ]
  },
  {
   "cell_type": "code",
   "execution_count": 14,
   "metadata": {},
   "outputs": [
    {
     "data": {
      "text/plain": [
       "tensor([[1.2663e+03, 1.2476e+03, 1.2691e+03,  ..., 1.1056e+03, 1.1100e+03,\n",
       "         1.1030e+03],\n",
       "        [2.5324e+10, 2.5299e+10, 2.5383e+10,  ..., 2.4020e+10, 2.4003e+10,\n",
       "         2.3926e+10],\n",
       "        [4.2737e+23, 4.2749e+23, 4.2985e+23,  ..., 3.9118e+23, 3.9134e+23,\n",
       "         3.9095e+23],\n",
       "        ...,\n",
       "        [0.0000e+00, 0.0000e+00, 0.0000e+00,  ..., 0.0000e+00, 0.0000e+00,\n",
       "         0.0000e+00],\n",
       "        [6.7200e+02, 7.8800e+02, 7.3400e+02,  ..., 7.5100e+02, 8.3200e+02,\n",
       "         1.0040e+03],\n",
       "        [6.0734e-07, 5.3174e-07, 5.1408e-07,  ..., 1.0566e-06, 9.2946e-07,\n",
       "         7.9558e-07]])"
      ]
     },
     "execution_count": 14,
     "metadata": {},
     "output_type": "execute_result"
    }
   ],
   "source": [
    "train1[0]"
   ]
  },
  {
   "cell_type": "code",
   "execution_count": 15,
   "metadata": {},
   "outputs": [
    {
     "data": {
      "image/png": "[encoded data removed]",
      "text/plain": [
       "<Figure size 432x288 with 1 Axes>"
      ]
     },
     "metadata": {},
     "output_type": "display_data"
    }
   ],
   "source": [
    "plt.imshow(train2[1])\n",
    "plt.show()"
   ]
  },
  {
   "cell_type": "code",
   "execution_count": 16,
   "metadata": {},
   "outputs": [
    {
     "data": {
      "image/png": "[encoded data removed]",
      "text/plain": [
       "<Figure size 432x288 with 1 Axes>"
      ]
     },
     "metadata": {},
     "output_type": "display_data"
    }
   ],
   "source": [
    "plt.imshow(train1[2])\n",
    "plt.show()"
   ]
  },
  {
   "cell_type": "code",
   "execution_count": 17,
   "metadata": {},
   "outputs": [
    {
     "ename": "RuntimeError",
     "evalue": "shape '[1000, 1, 33, 60]' is invalid for input of size 9900000",
     "output_type": "error",
     "traceback": [
      "\u001b[0;31m---------------------------------------------------------------------------\u001b[0m",
      "\u001b[0;31mRuntimeError\u001b[0m                              Traceback (most recent call last)",
      "\u001b[0;32m<ipython-input-17-e176e4ee2b8f>\u001b[0m in \u001b[0;36m<module>\u001b[0;34m()\u001b[0m\n\u001b[0;32m----> 1\u001b[0;31m \u001b[0mtrain1\u001b[0m\u001b[0;34m.\u001b[0m\u001b[0mview\u001b[0m\u001b[0;34m(\u001b[0m\u001b[0;36m1000\u001b[0m\u001b[0;34m,\u001b[0m\u001b[0;36m1\u001b[0m\u001b[0;34m,\u001b[0m\u001b[0;36m33\u001b[0m\u001b[0;34m,\u001b[0m\u001b[0;36m60\u001b[0m\u001b[0;34m)\u001b[0m\u001b[0;34m[\u001b[0m\u001b[0;34m:\u001b[0m\u001b[0;34m,\u001b[0m\u001b[0;36m0\u001b[0m\u001b[0;34m,\u001b[0m\u001b[0;34m:\u001b[0m\u001b[0;34m,\u001b[0m\u001b[0;34m:\u001b[0m\u001b[0;34m]\u001b[0m\u001b[0;34m.\u001b[0m\u001b[0mshape\u001b[0m\u001b[0;34m\u001b[0m\u001b[0m\n\u001b[0m",
      "\u001b[0;31mRuntimeError\u001b[0m: shape '[1000, 1, 33, 60]' is invalid for input of size 9900000"
     ]
    }
   ],
   "source": [
    "train1.view(1000,1,33,60)[:,0,:,:].shape"
   ]
  },
  {
   "cell_type": "code",
   "execution_count": 18,
   "metadata": {},
   "outputs": [
    {
     "data": {
      "text/plain": [
       "torch.Size([15000, 1, 28, 28])"
      ]
     },
     "execution_count": 18,
     "metadata": {},
     "output_type": "execute_result"
    }
   ],
   "source": [
    "X = torch.cat((train1, train2,train3),0)\n",
    "X = X.reshape(-1, 1, 33, 60)\n",
    "X = X[:,:,:28,:28]\n",
    "batch_size = X.shape[0]\n",
    "X = X.to(torch.float)\n",
    "for i in range(batch_size):\n",
    "  # print(X[i])\n",
    "  min_x = torch.min(X[i])\n",
    "  X[i] -= min_x\n",
    "  X[i] /= torch.max(X[i]).item()\n",
    "X=torch.nan_to_num(X)\n",
    "X.shape"
   ]
  },
  {
   "cell_type": "code",
   "execution_count": 19,
   "metadata": {},
   "outputs": [],
   "source": [
    "'''\n",
    "Create the arquitecture \n",
    "\n",
    "'''\n",
    "\n",
    "class Autoencoder(nn.Module):\n",
    "    def __init__(self):\n",
    "        super(Autoencoder, self).__init__()\n",
    "        # you can use sequential of not \n",
    "        self.encoder = nn.Sequential(\n",
    "            nn.Conv2d(1, 16, 3, stride=1, padding=1),\n",
    "            nn.ReLU(),\n",
    "            nn.MaxPool2d(2, 2),\n",
    "            nn.Conv2d(16, 4, 3, stride=1, padding=1),\n",
    "            nn.ReLU(),\n",
    "            nn.MaxPool2d(2, 2),\n",
    "            nn.Flatten(),\n",
    "            nn.Linear(196, 120),\n",
    "            nn.ReLU(),\n",
    "            nn.Linear(120, 96),\n",
    "            nn.ReLU(),\n",
    "            nn.Linear(96, 64),\n",
    "            nn.ReLU(),\n",
    "        )\n",
    "        self.decoder = nn.Sequential(\n",
    "            nn.Unflatten(1, (4, 4, 4)),\n",
    "            nn.ConvTranspose2d(4, 16, 3, stride = 1),\n",
    "            nn.Upsample(scale_factor=2),\n",
    "            nn.ConvTranspose2d(16, 1, 3, stride = 1),\n",
    "            nn.Upsample(scale_factor=2),\n",
    "            nn.Sigmoid()\n",
    "        )\n",
    "\n",
    "    def forward(self, x):\n",
    "        x = self.encoder(x)\n",
    "        x = self.decoder(x)\n",
    "        return x"
   ]
  },
  {
   "cell_type": "code",
   "execution_count": 20,
   "metadata": {},
   "outputs": [
    {
     "name": "stdout",
     "output_type": "stream",
     "text": [
      "epoch 1 : \t training loss 14.833051653050665\n",
      "epoch 2 : \t training loss 13.69419292956273\n",
      "epoch 3 : \t training loss 13.575284648805793\n",
      "epoch 4 : \t training loss 13.540135304302549\n",
      "epoch 5 : \t training loss 13.517103577473524\n",
      "epoch 6 : \t training loss 13.503751967761563\n",
      "epoch 7 : \t training loss 13.488089036331502\n",
      "epoch 8 : \t training loss 13.454423466725135\n",
      "epoch 9 : \t training loss 13.439577856551864\n",
      "epoch 10 : \t training loss 13.433676410585578\n",
      "epoch 11 : \t training loss 13.429462190884262\n",
      "epoch 12 : \t training loss 13.425375530206319\n",
      "epoch 13 : \t training loss 13.424700794443647\n",
      "epoch 14 : \t training loss 13.420114358096743\n",
      "epoch 15 : \t training loss 13.418056808300872\n",
      "epoch 16 : \t training loss 13.415546671922273\n",
      "epoch 17 : \t training loss 13.414367488706544\n",
      "epoch 18 : \t training loss 13.411254562548738\n",
      "epoch 19 : \t training loss 13.409192508725978\n",
      "epoch 20 : \t training loss 13.410953453100566\n",
      "epoch 21 : \t training loss 13.406726918495032\n",
      "epoch 22 : \t training loss 13.424627671617943\n",
      "epoch 23 : \t training loss 13.400190665523635\n",
      "epoch 24 : \t training loss 13.403391185345681\n",
      "epoch 25 : \t training loss 13.405661973363555\n",
      "epoch 26 : \t training loss 13.403060179529414\n",
      "epoch 27 : \t training loss 13.402785670274357\n",
      "epoch 28 : \t training loss 13.401970558329177\n",
      "epoch 29 : \t training loss 13.401862345778866\n",
      "epoch 30 : \t training loss 13.401681617378934\n",
      "epoch 31 : \t training loss 13.40274847646766\n",
      "epoch 32 : \t training loss 13.401516694758238\n",
      "epoch 33 : \t training loss 13.399172938454635\n",
      "epoch 34 : \t training loss 13.435759339505422\n",
      "epoch 35 : \t training loss 13.393547409887253\n",
      "epoch 36 : \t training loss 13.393989451150143\n",
      "epoch 37 : \t training loss 13.39913345196608\n",
      "epoch 38 : \t training loss 13.397027483372801\n",
      "epoch 39 : \t training loss 13.398307517139134\n",
      "epoch 40 : \t training loss 13.399137564559481\n",
      "epoch 41 : \t training loss 13.397807057732457\n",
      "epoch 42 : \t training loss 13.396945988954004\n",
      "epoch 43 : \t training loss 13.397511354133265\n",
      "epoch 44 : \t training loss 13.395042712246177\n",
      "epoch 45 : \t training loss 13.425223331715761\n",
      "epoch 46 : \t training loss 13.390894221852838\n",
      "epoch 47 : \t training loss 13.39222571692233\n",
      "epoch 48 : \t training loss 13.395967454544262\n",
      "epoch 49 : \t training loss 13.395712422917901\n",
      "epoch 50 : \t training loss 13.395888081491629\n"
     ]
    }
   ],
   "source": [
    "'''\n",
    "Define your training routine,\n",
    "your optimizer, your loss function.\n",
    "Everything you need to train the model\n",
    "'''\n",
    "model = Autoencoder()\n",
    "criterion = nn.BCELoss()\n",
    "optimizer = torch.optim.Adam(model.parameters(), lr = 0.001)\n",
    "\n",
    "n_epochs = 50\n",
    "\n",
    "model.to('cpu')\n",
    "\n",
    "train_loader = torch.utils.data.DataLoader(X, batch_size = 32, num_workers = 0)\n",
    "for epoch in range(1, n_epochs+1):\n",
    "  train_loss = 0.0\n",
    "  for data in train_loader:\n",
    "    data.to(device)\n",
    "    optimizer.zero_grad()\n",
    "    outputs = model(data)\n",
    "    loss = criterion(outputs, data)\n",
    "    loss.backward()\n",
    "    optimizer.step()\n",
    "    train_loss += loss.item()*data.size(0)\n",
    "  train_loss /= len(train_loader)\n",
    "  print(f'epoch {epoch} : \\t training loss {train_loss}')\n"
   ]
  },
  {
   "cell_type": "code",
   "execution_count": 163,
   "metadata": {},
   "outputs": [
    {
     "data": {
      "text/plain": [
       "Autoencoder(\n",
       "  (encoder): Sequential(\n",
       "    (0): Conv2d(1, 16, kernel_size=(3, 3), stride=(1, 1), padding=(1, 1))\n",
       "    (1): ReLU()\n",
       "    (2): MaxPool2d(kernel_size=2, stride=2, padding=0, dilation=1, ceil_mode=False)\n",
       "    (3): Conv2d(16, 4, kernel_size=(3, 3), stride=(1, 1), padding=(1, 1))\n",
       "    (4): ReLU()\n",
       "    (5): MaxPool2d(kernel_size=2, stride=2, padding=0, dilation=1, ceil_mode=False)\n",
       "    (6): Flatten(start_dim=1, end_dim=-1)\n",
       "    (7): Linear(in_features=196, out_features=16, bias=True)\n",
       "    (8): ReLU()\n",
       "    (9): Linear(in_features=16, out_features=36, bias=True)\n",
       "    (10): ReLU()\n",
       "    (11): Linear(in_features=36, out_features=64, bias=True)\n",
       "    (12): ReLU()\n",
       "  )\n",
       "  (decoder): Sequential(\n",
       "    (0): Unflatten(dim=1, unflattened_size=(4, 4, 4))\n",
       "    (1): ConvTranspose2d(4, 16, kernel_size=(3, 3), stride=(1, 1))\n",
       "    (2): Upsample(scale_factor=2.0, mode=nearest)\n",
       "    (3): ConvTranspose2d(16, 1, kernel_size=(3, 3), stride=(1, 1))\n",
       "    (4): Upsample(scale_factor=2.0, mode=nearest)\n",
       "    (5): Sigmoid()\n",
       "  )\n",
       ")"
      ]
     },
     "execution_count": 163,
     "metadata": {},
     "output_type": "execute_result"
    }
   ],
   "source": [
    "model.eval()"
   ]
  },
  {
   "cell_type": "code",
   "execution_count": 21,
   "metadata": {},
   "outputs": [],
   "source": [
    "X1_vector = model.encoder(X[0:,:,:,:])\n",
    "X1_vector = X1_vector.detach().numpy()"
   ]
  },
  {
   "cell_type": "code",
   "execution_count": 22,
   "metadata": {},
   "outputs": [
    {
     "data": {
      "text/plain": [
       "array([[0.7054079 , 0.        , 0.        , ..., 0.        , 0.        ,\n",
       "        1.9616416 ],\n",
       "       [0.        , 0.        , 0.        , ..., 0.        , 0.        ,\n",
       "        0.        ],\n",
       "       [2.1974432 , 0.        , 0.        , ..., 0.        , 0.        ,\n",
       "        2.2807355 ],\n",
       "       ...,\n",
       "       [1.92469   , 0.        , 0.        , ..., 0.        , 0.        ,\n",
       "        3.2093105 ],\n",
       "       [0.34566098, 0.        , 0.        , ..., 0.        , 0.        ,\n",
       "        1.0005386 ],\n",
       "       [0.29138526, 0.        , 0.        , ..., 0.        , 0.        ,\n",
       "        0.19747312]], dtype=float32)"
      ]
     },
     "execution_count": 22,
     "metadata": {},
     "output_type": "execute_result"
    }
   ],
   "source": [
    "X1_vector"
   ]
  },
  {
   "cell_type": "code",
   "execution_count": 51,
   "metadata": {},
   "outputs": [
    {
     "data": {
      "text/plain": [
       "KMeans(algorithm='auto', copy_x=True, init='k-means++', max_iter=300,\n",
       "    n_clusters=5, n_init=10, n_jobs=1, precompute_distances='auto',\n",
       "    random_state=None, tol=0.0001, verbose=0)"
      ]
     },
     "execution_count": 51,
     "metadata": {},
     "output_type": "execute_result"
    }
   ],
   "source": [
    "#k-mean analysis\n",
    "kmeans = KMeans(n_clusters = 5)\n",
    "kmeans.fit(X1_vector)\n"
   ]
  },
  {
   "cell_type": "code",
   "execution_count": 24,
   "metadata": {},
   "outputs": [
    {
     "data": {
      "text/plain": [
       "array([4, 1, 2, ..., 9, 5, 8], dtype=int32)"
      ]
     },
     "execution_count": 24,
     "metadata": {},
     "output_type": "execute_result"
    }
   ],
   "source": [
    "#k-mean labels\n",
    "kmeans.labels_"
   ]
  },
  {
   "cell_type": "code",
   "execution_count": 130,
   "metadata": {},
   "outputs": [
    {
     "data": {
      "text/plain": [
       "array([[0.02209709, 0.        , 0.02209709],\n",
       "       [0.02209709, 0.        , 0.02209709],\n",
       "       [0.02209709, 0.        , 0.02209709],\n",
       "       ...,\n",
       "       [0.02209709, 0.        , 0.02209709],\n",
       "       [0.02209709, 0.        , 0.02209709],\n",
       "       [0.02209709, 0.        , 0.02209709]], dtype=float32)"
      ]
     },
     "execution_count": 130,
     "metadata": {},
     "output_type": "execute_result"
    }
   ],
   "source": [
    "X1_fit"
   ]
  },
  {
   "cell_type": "code",
   "execution_count": 26,
   "metadata": {},
   "outputs": [],
   "source": [
    "from sklearn.manifold import TSNE"
   ]
  },
  {
   "cell_type": "code",
   "execution_count": 27,
   "metadata": {},
   "outputs": [],
   "source": [
    "#turn vectors into two dimensions\n",
    "X_embed = TSNE(n_components=2).fit_transform(X1_vector)"
   ]
  },
  {
   "cell_type": "code",
   "execution_count": 28,
   "metadata": {},
   "outputs": [
    {
     "data": {
      "text/plain": [
       "(15000, 2)"
      ]
     },
     "execution_count": 28,
     "metadata": {},
     "output_type": "execute_result"
    }
   ],
   "source": [
    "X_embed.shape"
   ]
  },
  {
   "cell_type": "code",
   "execution_count": 29,
   "metadata": {},
   "outputs": [],
   "source": [
    "x_em = X_embed[:, 0]\n",
    "y_em = X_embed[:,1]"
   ]
  },
  {
   "cell_type": "code",
   "execution_count": 34,
   "metadata": {},
   "outputs": [],
   "source": [
    "original = np.array([0]*5000+[1]*5000+[2]*5000)"
   ]
  },
  {
   "cell_type": "code",
   "execution_count": 57,
   "metadata": {},
   "outputs": [
    {
     "data": {
      "image/png": "[encoded data removed]",
      "text/plain": [
       "<Figure size 432x288 with 1 Axes>"
      ]
     },
     "metadata": {},
     "output_type": "display_data"
    }
   ],
   "source": [
    "# labeled by partition\n",
    "plt.scatter(x_em[:5000], y_em[:5000], c= 'red',label = 'train1')\n",
    "plt.scatter(x_em[5000:10000], y_em[5000:10000], c='blue', label = 'train2')\n",
    "plt.scatter(x_em[10000:15000], y_em[10000:15000], c='yellow', label = 'train3')\n",
    "plt.legend()\n",
    "plt.title('Original lables')\n",
    "plt.show()"
   ]
  },
  {
   "cell_type": "code",
   "execution_count": 50,
   "metadata": {},
   "outputs": [
    {
     "data": {
      "text/plain": [
       "array([0.47734237, 0.        , 0.        , 0.        , 7.7375927 ,\n",
       "       6.6490107 , 0.        , 0.        , 4.360107  , 0.        ,\n",
       "       0.        , 0.128243  , 6.451693  , 1.8022472 , 0.2515224 ,\n",
       "       3.0486207 , 6.111988  , 0.        , 0.        , 0.        ,\n",
       "       0.        , 0.        , 0.        , 0.        , 0.        ,\n",
       "       0.        , 0.        , 0.        , 0.        , 0.        ,\n",
       "       0.        , 8.124959  , 0.        , 0.        , 0.7883106 ,\n",
       "       5.328088  , 5.515572  , 0.        , 0.        , 4.2596345 ,\n",
       "       1.3861593 , 0.        , 0.        , 6.494928  , 0.        ,\n",
       "       0.        , 0.        , 1.0775927 , 0.        , 0.        ,\n",
       "       0.        , 0.        , 4.793183  , 0.        , 8.171903  ,\n",
       "       0.        , 6.3967543 , 0.5637827 , 0.        , 0.        ,\n",
       "       0.        , 0.        , 0.        , 0.31278116], dtype=float32)"
      ]
     },
     "execution_count": 50,
     "metadata": {},
     "output_type": "execute_result"
    }
   ],
   "source": [
    "X1_vector[3]"
   ]
  },
  {
   "cell_type": "code",
   "execution_count": 33,
   "metadata": {},
   "outputs": [
    {
     "data": {
      "text/plain": [
       "array([4, 1, 2, ..., 9, 5, 8], dtype=int32)"
      ]
     },
     "execution_count": 33,
     "metadata": {},
     "output_type": "execute_result"
    }
   ],
   "source": [
    "kmeans.labels_"
   ]
  },
  {
   "cell_type": "code",
   "execution_count": 52,
   "metadata": {},
   "outputs": [
    {
     "data": {
      "image/png": "[encoded data removed]",
      "text/plain": [
       "<Figure size 432x288 with 1 Axes>"
      ]
     },
     "metadata": {},
     "output_type": "display_data"
    }
   ],
   "source": [
    "# This is labeled with the KMeans labels\n",
    "plt.scatter(x_em, y_em, c=kmeans.labels_)\n",
    "plt.title('kMeans')\n",
    "plt.show()"
   ]
  },
  {
   "cell_type": "code",
   "execution_count": null,
   "metadata": {},
   "outputs": [],
   "source": []
  }
 ],
 "metadata": {
  "kernelspec": {
   "display_name": "Python 3",
   "language": "python",
   "name": "python3"
  },
  "language_info": {
   "codemirror_mode": {
    "name": "ipython",
    "version": 3
   },
   "file_extension": ".py",
   "mimetype": "text/x-python",
   "name": "python",
   "nbconvert_exporter": "python",
   "pygments_lexer": "ipython3",
   "version": "3.8.5"
  }
 },
 "nbformat": 4,
 "nbformat_minor": 4
}
