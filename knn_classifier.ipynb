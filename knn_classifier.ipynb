{
 "cells": [
  {
   "cell_type": "code",
   "execution_count": 1,
   "metadata": {},
   "outputs": [
    {
     "name": "stderr",
     "output_type": "stream",
     "text": [
      "/home/robjohnson/.local/lib/python3.8/site-packages/torch/cuda/__init__.py:52: UserWarning: CUDA initialization: Found no NVIDIA driver on your system. Please check that you have an NVIDIA GPU and installed a driver from http://www.nvidia.com/Download/index.aspx (Triggered internally at  /pytorch/c10/cuda/CUDAFunctions.cpp:100.)\n",
      "  return torch._C._cuda_getDeviceCount() > 0\n"
     ]
    },
    {
     "data": {
      "text/plain": [
       "<torch._C.Generator at 0x7efd84ad2d30>"
      ]
     },
     "execution_count": 1,
     "metadata": {},
     "output_type": "execute_result"
    }
   ],
   "source": [
    "\n",
    "import pandas as pd\n",
    "import numpy as np\n",
    "import torch\n",
    "import torch.nn as nn\n",
    "import torchvision.transforms as transforms\n",
    "import json\n",
    "from normalizer import subSample, getDataFromJSON, magDict\n",
    "# Device configuration - If you have CUDA configured, you must use it. Try training with CPU and observe what happens\n",
    "device = torch.device('cuda' if torch.cuda.is_available() else 'cpu')\n",
    "\n",
    "#Setting a seed for torch\n",
    "torch.manual_seed(195322) "
   ]
  },
  {
   "cell_type": "code",
   "execution_count": null,
   "metadata": {},
   "outputs": [],
   "source": []
  },
  {
   "cell_type": "code",
   "execution_count": 4,
   "metadata": {},
   "outputs": [
    {
     "name": "stdout",
     "output_type": "stream",
     "text": [
      "Now reading data/train_partition1_data.json\n",
      "Now loading event 1/785\n",
      "Now loading event 101/785\n",
      "Now loading event 201/785\n",
      "Now loading event 301/785\n",
      "Now loading event 401/785\n",
      "Now loading event 501/785\n",
      "Now loading event 601/785\n",
      "Now loading event 701/785\n",
      "785 lines loaded.\n",
      "CPU times: user 28.8 s, sys: 3.02 s, total: 31.8 s\n",
      "Wall time: 31.8 s\n"
     ]
    }
   ],
   "source": [
    "# This file has 77270 data points. \n",
    "%time train1, labels1 = subSample(path=\"data/train_partition1_data.json\", device=device, earlyStop=5000)"
   ]
  },
  {
   "cell_type": "code",
   "execution_count": 5,
   "metadata": {},
   "outputs": [
    {
     "name": "stdout",
     "output_type": "stream",
     "text": [
      "Now reading data/train_partition2_data.json\n",
      "Now loading event 1/300\n",
      "Now loading event 101/300\n",
      "Now loading event 201/300\n",
      "300 lines loaded.\n",
      "CPU times: user 26.2 s, sys: 5.28 s, total: 31.5 s\n",
      "Wall time: 31.6 s\n"
     ]
    }
   ],
   "source": [
    "# This file has 93767 data points. \n",
    "%time train2, labels2 = subSample(path=\"data/train_partition2_data.json\",device=device, earlyStop=5000)"
   ]
  },
  {
   "cell_type": "code",
   "execution_count": 6,
   "metadata": {},
   "outputs": [
    {
     "name": "stdout",
     "output_type": "stream",
     "text": [
      "Now reading data/train_partition3_data.json\n",
      "Now loading event 1/585\n",
      "Now loading event 101/585\n",
      "Now loading event 201/585\n",
      "Now loading event 301/585\n",
      "Now loading event 401/585\n",
      "Now loading event 501/585\n",
      "585 lines loaded.\n",
      "CPU times: user 19.8 s, sys: 1.52 s, total: 21.3 s\n",
      "Wall time: 21.4 s\n"
     ]
    }
   ],
   "source": [
    "# This file has 42986 data points. \n",
    "%time train3, labels3 = subSample(path=\"data/train_partition3_data.json\",device=device, earlyStop=5000)"
   ]
  },
  {
   "cell_type": "code",
   "execution_count": 7,
   "metadata": {},
   "outputs": [],
   "source": [
    "import matplotlib.pyplot as plt\n",
    "from sklearn.cluster import KMeans\n",
    "from sklearn.metrics import silhouette_score\n",
    "from sklearn.preprocessing import StandardScaler\n",
    "from sklearn.model_selection import train_test_split\n",
    "import pandas as pd"
   ]
  },
  {
   "cell_type": "code",
   "execution_count": 8,
   "metadata": {},
   "outputs": [],
   "source": [
    "t1 = [[train1[i, j, :].cpu().numpy().mean() for j in range(train1[i, :, :].shape[0])] for i in range(train1.shape[0])]\n",
    "t1 = np.array(t1)\n",
    "t2 = [[train2[i, j, :].cpu().numpy().mean() for j in range(train2[i, :, :].shape[0])] for i in range(train2.shape[0])]\n",
    "t2 = np.array(t2)\n",
    "t3 = [[train3[i, j, :].cpu().numpy().mean() for j in range(train3[i, :, :].shape[0])] for i in range(train3.shape[0])]\n",
    "t3 = np.array(t3)"
   ]
  },
  {
   "cell_type": "code",
   "execution_count": 9,
   "metadata": {},
   "outputs": [],
   "source": [
    "y = labels1 + labels2+ labels3"
   ]
  },
  {
   "cell_type": "code",
   "execution_count": 13,
   "metadata": {},
   "outputs": [
    {
     "data": {
      "text/html": [
       "<div>\n",
       "<style scoped>\n",
       "    .dataframe tbody tr th:only-of-type {\n",
       "        vertical-align: middle;\n",
       "    }\n",
       "\n",
       "    .dataframe tbody tr th {\n",
       "        vertical-align: top;\n",
       "    }\n",
       "\n",
       "    .dataframe thead th {\n",
       "        text-align: right;\n",
       "    }\n",
       "</style>\n",
       "<table border=\"1\" class=\"dataframe\">\n",
       "  <thead>\n",
       "    <tr style=\"text-align: right;\">\n",
       "      <th></th>\n",
       "      <th>TOTUSJH</th>\n",
       "      <th>TOTBSQ</th>\n",
       "      <th>TOTPOT</th>\n",
       "      <th>TOTUSJZ</th>\n",
       "      <th>ABSNJZH</th>\n",
       "      <th>SAVNCPP</th>\n",
       "      <th>USFLUX</th>\n",
       "      <th>TOTFZ</th>\n",
       "      <th>MEANPOT</th>\n",
       "      <th>EPSZ</th>\n",
       "      <th>...</th>\n",
       "      <th>R_VALUE</th>\n",
       "      <th>RBZ_VALUE</th>\n",
       "      <th>RBT_VALUE</th>\n",
       "      <th>RBP_VALUE</th>\n",
       "      <th>FDIM</th>\n",
       "      <th>BZ_FDIM</th>\n",
       "      <th>BT_FDIM</th>\n",
       "      <th>BP_FDIM</th>\n",
       "      <th>PIL_LEN</th>\n",
       "      <th>XR_MAX</th>\n",
       "    </tr>\n",
       "  </thead>\n",
       "  <tbody>\n",
       "    <tr>\n",
       "      <th>0</th>\n",
       "      <td>0.060793</td>\n",
       "      <td>0.045062</td>\n",
       "      <td>0.012009</td>\n",
       "      <td>0.065012</td>\n",
       "      <td>0.009815</td>\n",
       "      <td>0.017982</td>\n",
       "      <td>0.115723</td>\n",
       "      <td>0.847250</td>\n",
       "      <td>0.025876</td>\n",
       "      <td>0.096647</td>\n",
       "      <td>...</td>\n",
       "      <td>0.276402</td>\n",
       "      <td>0.559269</td>\n",
       "      <td>0.520013</td>\n",
       "      <td>0.255211</td>\n",
       "      <td>0.0</td>\n",
       "      <td>0.000223</td>\n",
       "      <td>0.001477</td>\n",
       "      <td>0.000211</td>\n",
       "      <td>0.052730</td>\n",
       "      <td>1.0</td>\n",
       "    </tr>\n",
       "    <tr>\n",
       "      <th>1</th>\n",
       "      <td>0.078708</td>\n",
       "      <td>0.164682</td>\n",
       "      <td>0.193010</td>\n",
       "      <td>0.078382</td>\n",
       "      <td>0.068215</td>\n",
       "      <td>0.044488</td>\n",
       "      <td>0.105814</td>\n",
       "      <td>0.939074</td>\n",
       "      <td>0.834311</td>\n",
       "      <td>0.920442</td>\n",
       "      <td>...</td>\n",
       "      <td>0.366461</td>\n",
       "      <td>0.419468</td>\n",
       "      <td>0.807042</td>\n",
       "      <td>0.791578</td>\n",
       "      <td>0.0</td>\n",
       "      <td>0.000000</td>\n",
       "      <td>0.001192</td>\n",
       "      <td>0.002979</td>\n",
       "      <td>0.000452</td>\n",
       "      <td>1.0</td>\n",
       "    </tr>\n",
       "    <tr>\n",
       "      <th>2</th>\n",
       "      <td>0.003945</td>\n",
       "      <td>0.002425</td>\n",
       "      <td>0.000839</td>\n",
       "      <td>0.004233</td>\n",
       "      <td>0.002299</td>\n",
       "      <td>0.004053</td>\n",
       "      <td>0.006160</td>\n",
       "      <td>0.960845</td>\n",
       "      <td>0.038151</td>\n",
       "      <td>0.164859</td>\n",
       "      <td>...</td>\n",
       "      <td>0.000000</td>\n",
       "      <td>0.020447</td>\n",
       "      <td>0.000000</td>\n",
       "      <td>0.000000</td>\n",
       "      <td>0.0</td>\n",
       "      <td>0.015850</td>\n",
       "      <td>0.007509</td>\n",
       "      <td>0.012514</td>\n",
       "      <td>0.000173</td>\n",
       "      <td>1.0</td>\n",
       "    </tr>\n",
       "    <tr>\n",
       "      <th>3</th>\n",
       "      <td>0.061924</td>\n",
       "      <td>0.048096</td>\n",
       "      <td>0.033875</td>\n",
       "      <td>0.062544</td>\n",
       "      <td>0.016292</td>\n",
       "      <td>0.016232</td>\n",
       "      <td>0.061165</td>\n",
       "      <td>0.912364</td>\n",
       "      <td>0.222543</td>\n",
       "      <td>0.600903</td>\n",
       "      <td>...</td>\n",
       "      <td>0.432230</td>\n",
       "      <td>0.521017</td>\n",
       "      <td>0.766407</td>\n",
       "      <td>0.731765</td>\n",
       "      <td>0.0</td>\n",
       "      <td>0.000000</td>\n",
       "      <td>0.005956</td>\n",
       "      <td>0.002978</td>\n",
       "      <td>0.000697</td>\n",
       "      <td>1.0</td>\n",
       "    </tr>\n",
       "    <tr>\n",
       "      <th>4</th>\n",
       "      <td>0.128512</td>\n",
       "      <td>0.130150</td>\n",
       "      <td>0.076341</td>\n",
       "      <td>0.123342</td>\n",
       "      <td>0.027858</td>\n",
       "      <td>0.029751</td>\n",
       "      <td>0.217723</td>\n",
       "      <td>0.751539</td>\n",
       "      <td>0.140315</td>\n",
       "      <td>0.427945</td>\n",
       "      <td>...</td>\n",
       "      <td>0.779540</td>\n",
       "      <td>0.681795</td>\n",
       "      <td>0.790899</td>\n",
       "      <td>0.732790</td>\n",
       "      <td>0.0</td>\n",
       "      <td>0.000000</td>\n",
       "      <td>0.001128</td>\n",
       "      <td>0.000282</td>\n",
       "      <td>0.074992</td>\n",
       "      <td>1.0</td>\n",
       "    </tr>\n",
       "    <tr>\n",
       "      <th>...</th>\n",
       "      <td>...</td>\n",
       "      <td>...</td>\n",
       "      <td>...</td>\n",
       "      <td>...</td>\n",
       "      <td>...</td>\n",
       "      <td>...</td>\n",
       "      <td>...</td>\n",
       "      <td>...</td>\n",
       "      <td>...</td>\n",
       "      <td>...</td>\n",
       "      <td>...</td>\n",
       "      <td>...</td>\n",
       "      <td>...</td>\n",
       "      <td>...</td>\n",
       "      <td>...</td>\n",
       "      <td>...</td>\n",
       "      <td>...</td>\n",
       "      <td>...</td>\n",
       "      <td>...</td>\n",
       "      <td>...</td>\n",
       "      <td>...</td>\n",
       "    </tr>\n",
       "    <tr>\n",
       "      <th>1665</th>\n",
       "      <td>0.067514</td>\n",
       "      <td>0.047703</td>\n",
       "      <td>0.025042</td>\n",
       "      <td>0.100501</td>\n",
       "      <td>0.005979</td>\n",
       "      <td>0.012402</td>\n",
       "      <td>0.060194</td>\n",
       "      <td>0.874847</td>\n",
       "      <td>0.180899</td>\n",
       "      <td>0.613728</td>\n",
       "      <td>...</td>\n",
       "      <td>0.662611</td>\n",
       "      <td>0.713976</td>\n",
       "      <td>0.774694</td>\n",
       "      <td>0.796948</td>\n",
       "      <td>0.0</td>\n",
       "      <td>0.000000</td>\n",
       "      <td>0.004580</td>\n",
       "      <td>0.003435</td>\n",
       "      <td>0.002891</td>\n",
       "      <td>1.0</td>\n",
       "    </tr>\n",
       "    <tr>\n",
       "      <th>1666</th>\n",
       "      <td>0.295716</td>\n",
       "      <td>0.375056</td>\n",
       "      <td>0.223618</td>\n",
       "      <td>0.352335</td>\n",
       "      <td>0.259494</td>\n",
       "      <td>0.271762</td>\n",
       "      <td>0.476189</td>\n",
       "      <td>0.397829</td>\n",
       "      <td>0.282282</td>\n",
       "      <td>0.505814</td>\n",
       "      <td>...</td>\n",
       "      <td>0.948051</td>\n",
       "      <td>0.954582</td>\n",
       "      <td>0.893567</td>\n",
       "      <td>0.856033</td>\n",
       "      <td>0.0</td>\n",
       "      <td>0.005262</td>\n",
       "      <td>0.005539</td>\n",
       "      <td>0.001511</td>\n",
       "      <td>0.287255</td>\n",
       "      <td>1.0</td>\n",
       "    </tr>\n",
       "    <tr>\n",
       "      <th>1667</th>\n",
       "      <td>0.067098</td>\n",
       "      <td>0.067780</td>\n",
       "      <td>0.041502</td>\n",
       "      <td>0.108168</td>\n",
       "      <td>0.040761</td>\n",
       "      <td>0.064837</td>\n",
       "      <td>0.098807</td>\n",
       "      <td>0.843852</td>\n",
       "      <td>0.193223</td>\n",
       "      <td>0.568563</td>\n",
       "      <td>...</td>\n",
       "      <td>0.652621</td>\n",
       "      <td>0.713214</td>\n",
       "      <td>0.764466</td>\n",
       "      <td>0.726690</td>\n",
       "      <td>0.0</td>\n",
       "      <td>0.000000</td>\n",
       "      <td>0.000000</td>\n",
       "      <td>0.000000</td>\n",
       "      <td>0.003022</td>\n",
       "      <td>1.0</td>\n",
       "    </tr>\n",
       "    <tr>\n",
       "      <th>1668</th>\n",
       "      <td>0.052020</td>\n",
       "      <td>0.052557</td>\n",
       "      <td>0.031305</td>\n",
       "      <td>0.073201</td>\n",
       "      <td>0.025394</td>\n",
       "      <td>0.019858</td>\n",
       "      <td>0.066410</td>\n",
       "      <td>0.861888</td>\n",
       "      <td>0.249326</td>\n",
       "      <td>0.564695</td>\n",
       "      <td>...</td>\n",
       "      <td>0.715062</td>\n",
       "      <td>0.709480</td>\n",
       "      <td>0.752676</td>\n",
       "      <td>0.733475</td>\n",
       "      <td>0.0</td>\n",
       "      <td>0.001305</td>\n",
       "      <td>0.007869</td>\n",
       "      <td>0.000874</td>\n",
       "      <td>0.008018</td>\n",
       "      <td>1.0</td>\n",
       "    </tr>\n",
       "    <tr>\n",
       "      <th>1669</th>\n",
       "      <td>0.001832</td>\n",
       "      <td>0.000970</td>\n",
       "      <td>0.000277</td>\n",
       "      <td>0.002848</td>\n",
       "      <td>0.001369</td>\n",
       "      <td>0.003130</td>\n",
       "      <td>0.001830</td>\n",
       "      <td>0.924935</td>\n",
       "      <td>0.052310</td>\n",
       "      <td>0.402374</td>\n",
       "      <td>...</td>\n",
       "      <td>0.234295</td>\n",
       "      <td>0.236519</td>\n",
       "      <td>0.448401</td>\n",
       "      <td>0.265430</td>\n",
       "      <td>0.0</td>\n",
       "      <td>0.000000</td>\n",
       "      <td>0.015897</td>\n",
       "      <td>0.009084</td>\n",
       "      <td>0.000082</td>\n",
       "      <td>1.0</td>\n",
       "    </tr>\n",
       "  </tbody>\n",
       "</table>\n",
       "<p>1670 rows × 33 columns</p>\n",
       "</div>"
      ],
      "text/plain": [
       "       TOTUSJH    TOTBSQ    TOTPOT   TOTUSJZ   ABSNJZH   SAVNCPP    USFLUX  \\\n",
       "0     0.060793  0.045062  0.012009  0.065012  0.009815  0.017982  0.115723   \n",
       "1     0.078708  0.164682  0.193010  0.078382  0.068215  0.044488  0.105814   \n",
       "2     0.003945  0.002425  0.000839  0.004233  0.002299  0.004053  0.006160   \n",
       "3     0.061924  0.048096  0.033875  0.062544  0.016292  0.016232  0.061165   \n",
       "4     0.128512  0.130150  0.076341  0.123342  0.027858  0.029751  0.217723   \n",
       "...        ...       ...       ...       ...       ...       ...       ...   \n",
       "1665  0.067514  0.047703  0.025042  0.100501  0.005979  0.012402  0.060194   \n",
       "1666  0.295716  0.375056  0.223618  0.352335  0.259494  0.271762  0.476189   \n",
       "1667  0.067098  0.067780  0.041502  0.108168  0.040761  0.064837  0.098807   \n",
       "1668  0.052020  0.052557  0.031305  0.073201  0.025394  0.019858  0.066410   \n",
       "1669  0.001832  0.000970  0.000277  0.002848  0.001369  0.003130  0.001830   \n",
       "\n",
       "         TOTFZ   MEANPOT      EPSZ  ...   R_VALUE  RBZ_VALUE  RBT_VALUE  \\\n",
       "0     0.847250  0.025876  0.096647  ...  0.276402   0.559269   0.520013   \n",
       "1     0.939074  0.834311  0.920442  ...  0.366461   0.419468   0.807042   \n",
       "2     0.960845  0.038151  0.164859  ...  0.000000   0.020447   0.000000   \n",
       "3     0.912364  0.222543  0.600903  ...  0.432230   0.521017   0.766407   \n",
       "4     0.751539  0.140315  0.427945  ...  0.779540   0.681795   0.790899   \n",
       "...        ...       ...       ...  ...       ...        ...        ...   \n",
       "1665  0.874847  0.180899  0.613728  ...  0.662611   0.713976   0.774694   \n",
       "1666  0.397829  0.282282  0.505814  ...  0.948051   0.954582   0.893567   \n",
       "1667  0.843852  0.193223  0.568563  ...  0.652621   0.713214   0.764466   \n",
       "1668  0.861888  0.249326  0.564695  ...  0.715062   0.709480   0.752676   \n",
       "1669  0.924935  0.052310  0.402374  ...  0.234295   0.236519   0.448401   \n",
       "\n",
       "      RBP_VALUE  FDIM   BZ_FDIM   BT_FDIM   BP_FDIM   PIL_LEN  XR_MAX  \n",
       "0      0.255211   0.0  0.000223  0.001477  0.000211  0.052730     1.0  \n",
       "1      0.791578   0.0  0.000000  0.001192  0.002979  0.000452     1.0  \n",
       "2      0.000000   0.0  0.015850  0.007509  0.012514  0.000173     1.0  \n",
       "3      0.731765   0.0  0.000000  0.005956  0.002978  0.000697     1.0  \n",
       "4      0.732790   0.0  0.000000  0.001128  0.000282  0.074992     1.0  \n",
       "...         ...   ...       ...       ...       ...       ...     ...  \n",
       "1665   0.796948   0.0  0.000000  0.004580  0.003435  0.002891     1.0  \n",
       "1666   0.856033   0.0  0.005262  0.005539  0.001511  0.287255     1.0  \n",
       "1667   0.726690   0.0  0.000000  0.000000  0.000000  0.003022     1.0  \n",
       "1668   0.733475   0.0  0.001305  0.007869  0.000874  0.008018     1.0  \n",
       "1669   0.265430   0.0  0.000000  0.015897  0.009084  0.000082     1.0  \n",
       "\n",
       "[1670 rows x 33 columns]"
      ]
     },
     "execution_count": 13,
     "metadata": {},
     "output_type": "execute_result"
    }
   ],
   "source": [
    "X = pd.DataFrame(np.concatenate([t1,t2,t3], axis = 0), columns = magDict.keys())\n",
    "X"
   ]
  },
  {
   "cell_type": "code",
   "execution_count": 14,
   "metadata": {},
   "outputs": [],
   "source": [
    "X_train, X_test, y_train, y_test = train_test_split(X, y)"
   ]
  },
  {
   "cell_type": "code",
   "execution_count": 15,
   "metadata": {},
   "outputs": [
    {
     "data": {
      "text/plain": [
       "KNeighborsClassifier(n_neighbors=3)"
      ]
     },
     "execution_count": 15,
     "metadata": {},
     "output_type": "execute_result"
    }
   ],
   "source": [
    "from sklearn.neighbors import KNeighborsClassifier\n",
    "model=KNeighborsClassifier(n_neighbors = 3)\n",
    "model.fit(X_train, y_train)"
   ]
  },
  {
   "cell_type": "code",
   "execution_count": 16,
   "metadata": {},
   "outputs": [],
   "source": [
    "y_pred = model.predict(X_test)"
   ]
  },
  {
   "cell_type": "code",
   "execution_count": 17,
   "metadata": {},
   "outputs": [
    {
     "name": "stdout",
     "output_type": "stream",
     "text": [
      "              precision    recall  f1-score   support\n",
      "\n",
      "           0       0.87      1.00      0.93        82\n",
      "           1       0.57      0.70      0.63        71\n",
      "           2       0.53      0.47      0.50        87\n",
      "           3       0.60      0.58      0.59        92\n",
      "           4       0.81      0.67      0.73        86\n",
      "\n",
      "    accuracy                           0.68       418\n",
      "   macro avg       0.68      0.69      0.68       418\n",
      "weighted avg       0.68      0.68      0.68       418\n",
      "\n"
     ]
    }
   ],
   "source": [
    "from sklearn.metrics import classification_report\n",
    "print(classification_report(y_test, y_pred))"
   ]
  },
  {
   "cell_type": "code",
   "execution_count": 18,
   "metadata": {},
   "outputs": [
    {
     "data": {
      "text/plain": [
       "0.6794258373205742"
      ]
     },
     "execution_count": 18,
     "metadata": {},
     "output_type": "execute_result"
    }
   ],
   "source": [
    "from sklearn.metrics import accuracy_score\n",
    "accuracy_score(y_test, y_pred)"
   ]
  },
  {
   "cell_type": "code",
   "execution_count": 19,
   "metadata": {},
   "outputs": [
    {
     "data": {
      "image/png": "[encoded data removed]",
      "text/plain": [
       "<Figure size 432x288 with 1 Axes>"
      ]
     },
     "metadata": {
      "needs_background": "light"
     },
     "output_type": "display_data"
    }
   ],
   "source": [
    "plt.imshow(train2[1])\n",
    "plt.show()"
   ]
  },
  {
   "cell_type": "code",
   "execution_count": 11,
   "metadata": {},
   "outputs": [
    {
     "data": {
      "image/png": "[encoded data removed]",
      "text/plain": [
       "<Figure size 432x288 with 1 Axes>"
      ]
     },
     "metadata": {
      "needs_background": "light"
     },
     "output_type": "display_data"
    }
   ],
   "source": [
    "plt.imshow(train1[2])\n",
    "plt.show()"
   ]
  },
  {
   "cell_type": "code",
   "execution_count": null,
   "metadata": {},
   "outputs": [],
   "source": [
    "\n",
    "\n",
    "def tester(model, pathToWrite=None):\n",
    "        if pathToWrite is None:\n",
    "                pathToWrite = f'results/submission{datetime.now().strftime(\"%d_%H:%M\")}.csv'\n",
    "        # Get test data\n",
    "        test, ids = getDataFromJSON(path='data/test_4_5_data.json', test=True, device=device)\n",
    "        # get our guesses from the network\n",
    "        guesses = model.predict(test)\n",
    "        assert len(ids) == guesses.shape\n",
    "        # Open a file to write to\n",
    "        file = open(pathToWrite, mode='w')\n",
    "        print('Id,Label', file=file)\n",
    "        for i in range(len(ids)):\n",
    "                print(ids[i], guesses[i], sep=',', file=file)\n",
    "        file.close()\n",
    "\n",
    "tester(model)"
   ]
  }
 ],
 "metadata": {
  "kernelspec": {
   "display_name": "Python 3",
   "language": "python",
   "name": "python3"
  },
  "language_info": {
   "codemirror_mode": {
    "name": "ipython",
    "version": 3
   },
   "file_extension": ".py",
   "mimetype": "text/x-python",
   "name": "python",
   "nbconvert_exporter": "python",
   "pygments_lexer": "ipython3",
   "version": "3.8.5"
  }
 },
 "nbformat": 4,
 "nbformat_minor": 4
}
